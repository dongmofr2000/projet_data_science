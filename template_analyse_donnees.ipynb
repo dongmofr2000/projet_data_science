{
  "nbformat": 4,
  "nbformat_minor": 0,
  "metadata": {
    "colab": {
      "provenance": [],
      "authorship_tag": "ABX9TyPpEMJd0tgEMmF3Hf8E7lS1",
      "include_colab_link": true
    },
    "kernelspec": {
      "name": "python3",
      "display_name": "Python 3"
    },
    "language_info": {
      "name": "python"
    }
  },
  "cells": [
    {
      "cell_type": "markdown",
      "metadata": {
        "id": "view-in-github",
        "colab_type": "text"
      },
      "source": [
        "<a href=\"https://colab.research.google.com/github/dongmofr2000/projet_data_science/blob/main/template_analyse_donnees.ipynb\" target=\"_parent\"><img src=\"https://colab.research.google.com/assets/colab-badge.svg\" alt=\"Open In Colab\"/></a>"
      ]
    },
    {
      "cell_type": "code",
      "execution_count": 1,
      "metadata": {
        "id": "T89nyUBfe8fD"
      },
      "outputs": [],
      "source": [
        "import pandas as pd\n",
        "import numpy as np\n",
        "import matplotlib.pyplot as plt\n",
        "import seaborn as sns"
      ]
    },
    {
      "cell_type": "code",
      "source": [
        "data=pd.read_csv('/content/donnees_seattle.csv')"
      ],
      "metadata": {
        "id": "Gjcf8B_gvI_W"
      },
      "execution_count": 3,
      "outputs": []
    },
    {
      "cell_type": "code",
      "source": [
        "data.head()"
      ],
      "metadata": {
        "colab": {
          "base_uri": "https://localhost:8080/",
          "height": 360
        },
        "id": "vkpEK_Avv8fv",
        "outputId": "453d29e6-b446-4966-9a2b-5d80b9baec37"
      },
      "execution_count": 4,
      "outputs": [
        {
          "output_type": "execute_result",
          "data": {
            "text/plain": [
              "                                       OSEBuildingID  DataYear  \\\n",
              "0                                                  1    2016.0   \n",
              "1  2,2016,NonResidential,Hotel,Paramount Hotel,72...       NaN   \n",
              "2                                                  3    2016.0   \n",
              "3                                                  5    2016.0   \n",
              "4  8,2016,NonResidential,Hotel,WARWICK SEATTLE HO...       NaN   \n",
              "\n",
              "     BuildingType PrimaryPropertyType             PropertyName  \\\n",
              "0  NonResidential               Hotel     Mayflower park hotel   \n",
              "1             NaN                 NaN                      NaN   \n",
              "2  NonResidential               Hotel  5673-The Westin Seattle   \n",
              "3  NonResidential               Hotel                HOTEL MAX   \n",
              "4             NaN                 NaN                      NaN   \n",
              "\n",
              "           Address     City State  ZipCode TaxParcelIdentificationNumber  ...  \\\n",
              "0    405 Olive way  Seattle    WA  98101.0                    0659000030  ...   \n",
              "1              NaN      NaN   NaN      NaN                           NaN  ...   \n",
              "2  1900 5th Avenue  Seattle    WA  98101.0                    0659000475  ...   \n",
              "3   620 STEWART ST  Seattle    WA  98101.0                    0659000640  ...   \n",
              "4              NaN      NaN   NaN      NaN                           NaN  ...   \n",
              "\n",
              "   Electricity(kWh) Electricity(kBtu)  NaturalGas(therms)  NaturalGas(kBtu)  \\\n",
              "0      1.156514e+06         3946027.0         12764.52930         1276453.0   \n",
              "1               NaN               NaN                 NaN               NaN   \n",
              "2      1.451544e+07        49526664.0         14938.00000         1493800.0   \n",
              "3      8.115253e+05         2768924.0         18112.13086         1811213.0   \n",
              "4               NaN               NaN                 NaN               NaN   \n",
              "\n",
              "   DefaultData  Comments  ComplianceStatus  Outlier  TotalGHGEmissions  \\\n",
              "0        False       NaN         Compliant      NaN             249.98   \n",
              "1          NaN       NaN               NaN      NaN                NaN   \n",
              "2        False       NaN         Compliant      NaN            2089.28   \n",
              "3        False       NaN         Compliant      NaN             286.43   \n",
              "4          NaN       NaN               NaN      NaN                NaN   \n",
              "\n",
              "   GHGEmissionsIntensity  \n",
              "0                   2.83  \n",
              "1                    NaN  \n",
              "2                   2.19  \n",
              "3                   4.67  \n",
              "4                    NaN  \n",
              "\n",
              "[5 rows x 46 columns]"
            ],
            "text/html": [
              "\n",
              "  <div id=\"df-194cd241-8f72-44d8-9e40-f52304662e73\" class=\"colab-df-container\">\n",
              "    <div>\n",
              "<style scoped>\n",
              "    .dataframe tbody tr th:only-of-type {\n",
              "        vertical-align: middle;\n",
              "    }\n",
              "\n",
              "    .dataframe tbody tr th {\n",
              "        vertical-align: top;\n",
              "    }\n",
              "\n",
              "    .dataframe thead th {\n",
              "        text-align: right;\n",
              "    }\n",
              "</style>\n",
              "<table border=\"1\" class=\"dataframe\">\n",
              "  <thead>\n",
              "    <tr style=\"text-align: right;\">\n",
              "      <th></th>\n",
              "      <th>OSEBuildingID</th>\n",
              "      <th>DataYear</th>\n",
              "      <th>BuildingType</th>\n",
              "      <th>PrimaryPropertyType</th>\n",
              "      <th>PropertyName</th>\n",
              "      <th>Address</th>\n",
              "      <th>City</th>\n",
              "      <th>State</th>\n",
              "      <th>ZipCode</th>\n",
              "      <th>TaxParcelIdentificationNumber</th>\n",
              "      <th>...</th>\n",
              "      <th>Electricity(kWh)</th>\n",
              "      <th>Electricity(kBtu)</th>\n",
              "      <th>NaturalGas(therms)</th>\n",
              "      <th>NaturalGas(kBtu)</th>\n",
              "      <th>DefaultData</th>\n",
              "      <th>Comments</th>\n",
              "      <th>ComplianceStatus</th>\n",
              "      <th>Outlier</th>\n",
              "      <th>TotalGHGEmissions</th>\n",
              "      <th>GHGEmissionsIntensity</th>\n",
              "    </tr>\n",
              "  </thead>\n",
              "  <tbody>\n",
              "    <tr>\n",
              "      <th>0</th>\n",
              "      <td>1</td>\n",
              "      <td>2016.0</td>\n",
              "      <td>NonResidential</td>\n",
              "      <td>Hotel</td>\n",
              "      <td>Mayflower park hotel</td>\n",
              "      <td>405 Olive way</td>\n",
              "      <td>Seattle</td>\n",
              "      <td>WA</td>\n",
              "      <td>98101.0</td>\n",
              "      <td>0659000030</td>\n",
              "      <td>...</td>\n",
              "      <td>1.156514e+06</td>\n",
              "      <td>3946027.0</td>\n",
              "      <td>12764.52930</td>\n",
              "      <td>1276453.0</td>\n",
              "      <td>False</td>\n",
              "      <td>NaN</td>\n",
              "      <td>Compliant</td>\n",
              "      <td>NaN</td>\n",
              "      <td>249.98</td>\n",
              "      <td>2.83</td>\n",
              "    </tr>\n",
              "    <tr>\n",
              "      <th>1</th>\n",
              "      <td>2,2016,NonResidential,Hotel,Paramount Hotel,72...</td>\n",
              "      <td>NaN</td>\n",
              "      <td>NaN</td>\n",
              "      <td>NaN</td>\n",
              "      <td>NaN</td>\n",
              "      <td>NaN</td>\n",
              "      <td>NaN</td>\n",
              "      <td>NaN</td>\n",
              "      <td>NaN</td>\n",
              "      <td>NaN</td>\n",
              "      <td>...</td>\n",
              "      <td>NaN</td>\n",
              "      <td>NaN</td>\n",
              "      <td>NaN</td>\n",
              "      <td>NaN</td>\n",
              "      <td>NaN</td>\n",
              "      <td>NaN</td>\n",
              "      <td>NaN</td>\n",
              "      <td>NaN</td>\n",
              "      <td>NaN</td>\n",
              "      <td>NaN</td>\n",
              "    </tr>\n",
              "    <tr>\n",
              "      <th>2</th>\n",
              "      <td>3</td>\n",
              "      <td>2016.0</td>\n",
              "      <td>NonResidential</td>\n",
              "      <td>Hotel</td>\n",
              "      <td>5673-The Westin Seattle</td>\n",
              "      <td>1900 5th Avenue</td>\n",
              "      <td>Seattle</td>\n",
              "      <td>WA</td>\n",
              "      <td>98101.0</td>\n",
              "      <td>0659000475</td>\n",
              "      <td>...</td>\n",
              "      <td>1.451544e+07</td>\n",
              "      <td>49526664.0</td>\n",
              "      <td>14938.00000</td>\n",
              "      <td>1493800.0</td>\n",
              "      <td>False</td>\n",
              "      <td>NaN</td>\n",
              "      <td>Compliant</td>\n",
              "      <td>NaN</td>\n",
              "      <td>2089.28</td>\n",
              "      <td>2.19</td>\n",
              "    </tr>\n",
              "    <tr>\n",
              "      <th>3</th>\n",
              "      <td>5</td>\n",
              "      <td>2016.0</td>\n",
              "      <td>NonResidential</td>\n",
              "      <td>Hotel</td>\n",
              "      <td>HOTEL MAX</td>\n",
              "      <td>620 STEWART ST</td>\n",
              "      <td>Seattle</td>\n",
              "      <td>WA</td>\n",
              "      <td>98101.0</td>\n",
              "      <td>0659000640</td>\n",
              "      <td>...</td>\n",
              "      <td>8.115253e+05</td>\n",
              "      <td>2768924.0</td>\n",
              "      <td>18112.13086</td>\n",
              "      <td>1811213.0</td>\n",
              "      <td>False</td>\n",
              "      <td>NaN</td>\n",
              "      <td>Compliant</td>\n",
              "      <td>NaN</td>\n",
              "      <td>286.43</td>\n",
              "      <td>4.67</td>\n",
              "    </tr>\n",
              "    <tr>\n",
              "      <th>4</th>\n",
              "      <td>8,2016,NonResidential,Hotel,WARWICK SEATTLE HO...</td>\n",
              "      <td>NaN</td>\n",
              "      <td>NaN</td>\n",
              "      <td>NaN</td>\n",
              "      <td>NaN</td>\n",
              "      <td>NaN</td>\n",
              "      <td>NaN</td>\n",
              "      <td>NaN</td>\n",
              "      <td>NaN</td>\n",
              "      <td>NaN</td>\n",
              "      <td>...</td>\n",
              "      <td>NaN</td>\n",
              "      <td>NaN</td>\n",
              "      <td>NaN</td>\n",
              "      <td>NaN</td>\n",
              "      <td>NaN</td>\n",
              "      <td>NaN</td>\n",
              "      <td>NaN</td>\n",
              "      <td>NaN</td>\n",
              "      <td>NaN</td>\n",
              "      <td>NaN</td>\n",
              "    </tr>\n",
              "  </tbody>\n",
              "</table>\n",
              "<p>5 rows × 46 columns</p>\n",
              "</div>\n",
              "    <div class=\"colab-df-buttons\">\n",
              "\n",
              "  <div class=\"colab-df-container\">\n",
              "    <button class=\"colab-df-convert\" onclick=\"convertToInteractive('df-194cd241-8f72-44d8-9e40-f52304662e73')\"\n",
              "            title=\"Convert this dataframe to an interactive table.\"\n",
              "            style=\"display:none;\">\n",
              "\n",
              "  <svg xmlns=\"http://www.w3.org/2000/svg\" height=\"24px\" viewBox=\"0 -960 960 960\">\n",
              "    <path d=\"M120-120v-720h720v720H120Zm60-500h600v-160H180v160Zm220 220h160v-160H400v160Zm0 220h160v-160H400v160ZM180-400h160v-160H180v160Zm440 0h160v-160H620v160ZM180-180h160v-160H180v160Zm440 0h160v-160H620v160Z\"/>\n",
              "  </svg>\n",
              "    </button>\n",
              "\n",
              "  <style>\n",
              "    .colab-df-container {\n",
              "      display:flex;\n",
              "      gap: 12px;\n",
              "    }\n",
              "\n",
              "    .colab-df-convert {\n",
              "      background-color: #E8F0FE;\n",
              "      border: none;\n",
              "      border-radius: 50%;\n",
              "      cursor: pointer;\n",
              "      display: none;\n",
              "      fill: #1967D2;\n",
              "      height: 32px;\n",
              "      padding: 0 0 0 0;\n",
              "      width: 32px;\n",
              "    }\n",
              "\n",
              "    .colab-df-convert:hover {\n",
              "      background-color: #E2EBFA;\n",
              "      box-shadow: 0px 1px 2px rgba(60, 64, 67, 0.3), 0px 1px 3px 1px rgba(60, 64, 67, 0.15);\n",
              "      fill: #174EA6;\n",
              "    }\n",
              "\n",
              "    .colab-df-buttons div {\n",
              "      margin-bottom: 4px;\n",
              "    }\n",
              "\n",
              "    [theme=dark] .colab-df-convert {\n",
              "      background-color: #3B4455;\n",
              "      fill: #D2E3FC;\n",
              "    }\n",
              "\n",
              "    [theme=dark] .colab-df-convert:hover {\n",
              "      background-color: #434B5C;\n",
              "      box-shadow: 0px 1px 3px 1px rgba(0, 0, 0, 0.15);\n",
              "      filter: drop-shadow(0px 1px 2px rgba(0, 0, 0, 0.3));\n",
              "      fill: #FFFFFF;\n",
              "    }\n",
              "  </style>\n",
              "\n",
              "    <script>\n",
              "      const buttonEl =\n",
              "        document.querySelector('#df-194cd241-8f72-44d8-9e40-f52304662e73 button.colab-df-convert');\n",
              "      buttonEl.style.display =\n",
              "        google.colab.kernel.accessAllowed ? 'block' : 'none';\n",
              "\n",
              "      async function convertToInteractive(key) {\n",
              "        const element = document.querySelector('#df-194cd241-8f72-44d8-9e40-f52304662e73');\n",
              "        const dataTable =\n",
              "          await google.colab.kernel.invokeFunction('convertToInteractive',\n",
              "                                                    [key], {});\n",
              "        if (!dataTable) return;\n",
              "\n",
              "        const docLinkHtml = 'Like what you see? Visit the ' +\n",
              "          '<a target=\"_blank\" href=https://colab.research.google.com/notebooks/data_table.ipynb>data table notebook</a>'\n",
              "          + ' to learn more about interactive tables.';\n",
              "        element.innerHTML = '';\n",
              "        dataTable['output_type'] = 'display_data';\n",
              "        await google.colab.output.renderOutput(dataTable, element);\n",
              "        const docLink = document.createElement('div');\n",
              "        docLink.innerHTML = docLinkHtml;\n",
              "        element.appendChild(docLink);\n",
              "      }\n",
              "    </script>\n",
              "  </div>\n",
              "\n",
              "\n",
              "    <div id=\"df-42d44c9c-6805-46fa-906e-f3180868fdca\">\n",
              "      <button class=\"colab-df-quickchart\" onclick=\"quickchart('df-42d44c9c-6805-46fa-906e-f3180868fdca')\"\n",
              "                title=\"Suggest charts\"\n",
              "                style=\"display:none;\">\n",
              "\n",
              "<svg xmlns=\"http://www.w3.org/2000/svg\" height=\"24px\"viewBox=\"0 0 24 24\"\n",
              "     width=\"24px\">\n",
              "    <g>\n",
              "        <path d=\"M19 3H5c-1.1 0-2 .9-2 2v14c0 1.1.9 2 2 2h14c1.1 0 2-.9 2-2V5c0-1.1-.9-2-2-2zM9 17H7v-7h2v7zm4 0h-2V7h2v10zm4 0h-2v-4h2v4z\"/>\n",
              "    </g>\n",
              "</svg>\n",
              "      </button>\n",
              "\n",
              "<style>\n",
              "  .colab-df-quickchart {\n",
              "      --bg-color: #E8F0FE;\n",
              "      --fill-color: #1967D2;\n",
              "      --hover-bg-color: #E2EBFA;\n",
              "      --hover-fill-color: #174EA6;\n",
              "      --disabled-fill-color: #AAA;\n",
              "      --disabled-bg-color: #DDD;\n",
              "  }\n",
              "\n",
              "  [theme=dark] .colab-df-quickchart {\n",
              "      --bg-color: #3B4455;\n",
              "      --fill-color: #D2E3FC;\n",
              "      --hover-bg-color: #434B5C;\n",
              "      --hover-fill-color: #FFFFFF;\n",
              "      --disabled-bg-color: #3B4455;\n",
              "      --disabled-fill-color: #666;\n",
              "  }\n",
              "\n",
              "  .colab-df-quickchart {\n",
              "    background-color: var(--bg-color);\n",
              "    border: none;\n",
              "    border-radius: 50%;\n",
              "    cursor: pointer;\n",
              "    display: none;\n",
              "    fill: var(--fill-color);\n",
              "    height: 32px;\n",
              "    padding: 0;\n",
              "    width: 32px;\n",
              "  }\n",
              "\n",
              "  .colab-df-quickchart:hover {\n",
              "    background-color: var(--hover-bg-color);\n",
              "    box-shadow: 0 1px 2px rgba(60, 64, 67, 0.3), 0 1px 3px 1px rgba(60, 64, 67, 0.15);\n",
              "    fill: var(--button-hover-fill-color);\n",
              "  }\n",
              "\n",
              "  .colab-df-quickchart-complete:disabled,\n",
              "  .colab-df-quickchart-complete:disabled:hover {\n",
              "    background-color: var(--disabled-bg-color);\n",
              "    fill: var(--disabled-fill-color);\n",
              "    box-shadow: none;\n",
              "  }\n",
              "\n",
              "  .colab-df-spinner {\n",
              "    border: 2px solid var(--fill-color);\n",
              "    border-color: transparent;\n",
              "    border-bottom-color: var(--fill-color);\n",
              "    animation:\n",
              "      spin 1s steps(1) infinite;\n",
              "  }\n",
              "\n",
              "  @keyframes spin {\n",
              "    0% {\n",
              "      border-color: transparent;\n",
              "      border-bottom-color: var(--fill-color);\n",
              "      border-left-color: var(--fill-color);\n",
              "    }\n",
              "    20% {\n",
              "      border-color: transparent;\n",
              "      border-left-color: var(--fill-color);\n",
              "      border-top-color: var(--fill-color);\n",
              "    }\n",
              "    30% {\n",
              "      border-color: transparent;\n",
              "      border-left-color: var(--fill-color);\n",
              "      border-top-color: var(--fill-color);\n",
              "      border-right-color: var(--fill-color);\n",
              "    }\n",
              "    40% {\n",
              "      border-color: transparent;\n",
              "      border-right-color: var(--fill-color);\n",
              "      border-top-color: var(--fill-color);\n",
              "    }\n",
              "    60% {\n",
              "      border-color: transparent;\n",
              "      border-right-color: var(--fill-color);\n",
              "    }\n",
              "    80% {\n",
              "      border-color: transparent;\n",
              "      border-right-color: var(--fill-color);\n",
              "      border-bottom-color: var(--fill-color);\n",
              "    }\n",
              "    90% {\n",
              "      border-color: transparent;\n",
              "      border-bottom-color: var(--fill-color);\n",
              "    }\n",
              "  }\n",
              "</style>\n",
              "\n",
              "      <script>\n",
              "        async function quickchart(key) {\n",
              "          const quickchartButtonEl =\n",
              "            document.querySelector('#' + key + ' button');\n",
              "          quickchartButtonEl.disabled = true;  // To prevent multiple clicks.\n",
              "          quickchartButtonEl.classList.add('colab-df-spinner');\n",
              "          try {\n",
              "            const charts = await google.colab.kernel.invokeFunction(\n",
              "                'suggestCharts', [key], {});\n",
              "          } catch (error) {\n",
              "            console.error('Error during call to suggestCharts:', error);\n",
              "          }\n",
              "          quickchartButtonEl.classList.remove('colab-df-spinner');\n",
              "          quickchartButtonEl.classList.add('colab-df-quickchart-complete');\n",
              "        }\n",
              "        (() => {\n",
              "          let quickchartButtonEl =\n",
              "            document.querySelector('#df-42d44c9c-6805-46fa-906e-f3180868fdca button');\n",
              "          quickchartButtonEl.style.display =\n",
              "            google.colab.kernel.accessAllowed ? 'block' : 'none';\n",
              "        })();\n",
              "      </script>\n",
              "    </div>\n",
              "\n",
              "    </div>\n",
              "  </div>\n"
            ],
            "application/vnd.google.colaboratory.intrinsic+json": {
              "type": "dataframe",
              "variable_name": "data"
            }
          },
          "metadata": {},
          "execution_count": 4
        }
      ]
    },
    {
      "cell_type": "markdown",
      "source": [
        "A) Identifier les colonnes qui peuvent aider à repérer des bâtiments aberrants ou peu pertinents.\n"
      ],
      "metadata": {
        "id": "ichmwLEh3m0S"
      }
    },
    {
      "cell_type": "markdown",
      "source": [
        "Pour identifier les bâtiments aberrants ou peu pertinents dans votre jeu de données, vous devez vous concentrer sur des colonnes qui révèlent des caractéristiques inhabituelles ou des problèmes de qualité des données. Voici les colonnes les plus utiles pour cette tâche, classées par type :\n"
      ],
      "metadata": {
        "id": "EKVB4pxW4NLT"
      }
    },
    {
      "cell_type": "markdown",
      "source": [
        "1. Colonnes d'identification\n",
        "\n",
        "Ces colonnes peuvent aider à identifier les doublons ou les erreurs de saisie.\n",
        "\n",
        "    OSEBuildingID : L'identifiant unique du bâtiment. Un OSEBuildingID dupliqué ou manquant pourrait indiquer un problème.\n",
        "\n",
        "    PropertyName et Address : Des erreurs de saisie ou des variations dans l'orthographe peuvent rendre le repérage de doublons difficile, mais ces colonnes sont essentielles pour comprendre l'identité d'un bâtiment."
      ],
      "metadata": {
        "id": "vZZQLkZn5Pn1"
      }
    },
    {
      "cell_type": "markdown",
      "source": [
        "2. Colonnes de caractéristiques physiques\n",
        "\n",
        "Ces colonnes peuvent révéler des valeurs incohérentes ou des erreurs de mesure.\n",
        "\n",
        "    PropertyGFATotal et PropertyGFABuilding(s) : La surface totale du bâtiment (PropertyGFATotal) devrait être égale ou supérieure à la surface des bâtiments (PropertyGFABuilding(s)). Une valeur de 0 ou un rapport incohérent entre les deux peut signaler une erreur.\n",
        "\n",
        "    NumberofBuildings et NumberofFloors : Des valeurs de 0 ou anormalement élevées pour le nombre de bâtiments ou d'étages pourraient être des erreurs.\n",
        "\n",
        "    YearBuilt : Une année de construction égale à 0, ou une année future, est une donnée aberrante.\n",
        "    "
      ],
      "metadata": {
        "id": "SbAcSHZB5qt8"
      }
    },
    {
      "cell_type": "markdown",
      "source": [
        "3. Colonnes énergétiques et d'émissions\n",
        "\n",
        "Ce sont les plus importantes pour détecter les valeurs aberrantes du point de vue de la performance.\n",
        "\n",
        "    SiteEnergyUse(kBtu) et TotalGHGEmissions : Ces colonnes représentent l'énergie totale consommée et les émissions de gaz à effet de serre. Des valeurs négatives ou de 0 sont des erreurs de saisie.\n",
        "\n",
        "    SiteEUI(kBtu/sf) et GHGEmissionsIntensity : Ces valeurs normalisées par la surface sont cruciales pour l'analyse. Des valeurs extrêmement hautes ou basses (des valeurs aberrantes) indiquent une consommation d'énergie anormalement élevée ou basse pour un bâtiment de cette taille."
      ],
      "metadata": {
        "id": "edehmHiP55CC"
      }
    },
    {
      "cell_type": "markdown",
      "source": [
        "B) Pour la suite du projet je choisis GHGEmissionsIntensity comme variable cible\n"
      ],
      "metadata": {
        "id": "LQI-6xsb9ErX"
      }
    },
    {
      "cell_type": "markdown",
      "source": [
        "Créer une copie du DataFrame pour la préparation des données"
      ],
      "metadata": {
        "id": "boAYjB8KAmwf"
      }
    },
    {
      "cell_type": "code",
      "source": [
        "data_prepa = data.copy()"
      ],
      "metadata": {
        "id": "fh8gCgEGA2EQ"
      },
      "execution_count": 5,
      "outputs": []
    },
    {
      "cell_type": "markdown",
      "source": [
        "C) Calculer le pourcentage de valeurs manquantes par colonne"
      ],
      "metadata": {
        "id": "P9k87mdJCL5m"
      }
    },
    {
      "cell_type": "code",
      "source": [
        "missing_data = data_prepa.isnull().sum()\n",
        "missing_data_percent = (missing_data / len(data_prepa)) * 100"
      ],
      "metadata": {
        "id": "fyM_Gm4BCZi3"
      },
      "execution_count": 6,
      "outputs": []
    },
    {
      "cell_type": "code",
      "source": [
        "display(missing_data_percent)"
      ],
      "metadata": {
        "colab": {
          "base_uri": "https://localhost:8080/",
          "height": 1000
        },
        "id": "tpSyQSJhDepf",
        "outputId": "22c7ed23-e585-43cc-e081-7814ab413e32"
      },
      "execution_count": 7,
      "outputs": [
        {
          "output_type": "display_data",
          "data": {
            "text/plain": [
              "OSEBuildingID                        0.000000\n",
              "DataYear                            50.473934\n",
              "BuildingType                        50.473934\n",
              "PrimaryPropertyType                 50.473934\n",
              "PropertyName                        50.473934\n",
              "Address                             50.473934\n",
              "City                                50.473934\n",
              "State                               50.473934\n",
              "ZipCode                             50.740521\n",
              "TaxParcelIdentificationNumber       50.473934\n",
              "CouncilDistrictCode                 50.473934\n",
              "Neighborhood                        50.473934\n",
              "Latitude                            50.473934\n",
              "Longitude                           50.473934\n",
              "YearBuilt                           50.473934\n",
              "NumberofBuildings                   50.710900\n",
              "NumberofFloors                      50.473934\n",
              "PropertyGFATotal                    50.473934\n",
              "PropertyGFAParking                  50.473934\n",
              "PropertyGFABuilding(s)              50.473934\n",
              "ListOfAllPropertyUseTypes           50.740521\n",
              "LargestPropertyUseType              51.007109\n",
              "LargestPropertyUseTypeGFA           51.007109\n",
              "SecondLargestPropertyUseType        99.674171\n",
              "SecondLargestPropertyUseTypeGFA     99.674171\n",
              "ThirdLargestPropertyUseType         99.911137\n",
              "ThirdLargestPropertyUseTypeGFA      99.911137\n",
              "YearsENERGYSTARCertified            99.377962\n",
              "ENERGYSTARScore                     58.886256\n",
              "SiteEUI(kBtu/sf)                    50.651659\n",
              "SiteEUIWN(kBtu/sf)                  50.622038\n",
              "SourceEUI(kBtu/sf)                  50.740521\n",
              "SourceEUIWN(kBtu/sf)                50.740521\n",
              "SiteEnergyUse(kBtu)                 50.622038\n",
              "SiteEnergyUseWN(kBtu)               50.622038\n",
              "SteamUse(kBtu)                      50.740521\n",
              "Electricity(kWh)                    50.740521\n",
              "Electricity(kBtu)                   50.740521\n",
              "NaturalGas(therms)                  50.740521\n",
              "NaturalGas(kBtu)                    50.740521\n",
              "DefaultData                         50.473934\n",
              "Comments                           100.000000\n",
              "ComplianceStatus                    50.473934\n",
              "Outlier                             99.466825\n",
              "TotalGHGEmissions                   50.740521\n",
              "GHGEmissionsIntensity               50.740521\n",
              "dtype: float64"
            ],
            "text/html": [
              "<div>\n",
              "<style scoped>\n",
              "    .dataframe tbody tr th:only-of-type {\n",
              "        vertical-align: middle;\n",
              "    }\n",
              "\n",
              "    .dataframe tbody tr th {\n",
              "        vertical-align: top;\n",
              "    }\n",
              "\n",
              "    .dataframe thead th {\n",
              "        text-align: right;\n",
              "    }\n",
              "</style>\n",
              "<table border=\"1\" class=\"dataframe\">\n",
              "  <thead>\n",
              "    <tr style=\"text-align: right;\">\n",
              "      <th></th>\n",
              "      <th>0</th>\n",
              "    </tr>\n",
              "  </thead>\n",
              "  <tbody>\n",
              "    <tr>\n",
              "      <th>OSEBuildingID</th>\n",
              "      <td>0.000000</td>\n",
              "    </tr>\n",
              "    <tr>\n",
              "      <th>DataYear</th>\n",
              "      <td>50.473934</td>\n",
              "    </tr>\n",
              "    <tr>\n",
              "      <th>BuildingType</th>\n",
              "      <td>50.473934</td>\n",
              "    </tr>\n",
              "    <tr>\n",
              "      <th>PrimaryPropertyType</th>\n",
              "      <td>50.473934</td>\n",
              "    </tr>\n",
              "    <tr>\n",
              "      <th>PropertyName</th>\n",
              "      <td>50.473934</td>\n",
              "    </tr>\n",
              "    <tr>\n",
              "      <th>Address</th>\n",
              "      <td>50.473934</td>\n",
              "    </tr>\n",
              "    <tr>\n",
              "      <th>City</th>\n",
              "      <td>50.473934</td>\n",
              "    </tr>\n",
              "    <tr>\n",
              "      <th>State</th>\n",
              "      <td>50.473934</td>\n",
              "    </tr>\n",
              "    <tr>\n",
              "      <th>ZipCode</th>\n",
              "      <td>50.740521</td>\n",
              "    </tr>\n",
              "    <tr>\n",
              "      <th>TaxParcelIdentificationNumber</th>\n",
              "      <td>50.473934</td>\n",
              "    </tr>\n",
              "    <tr>\n",
              "      <th>CouncilDistrictCode</th>\n",
              "      <td>50.473934</td>\n",
              "    </tr>\n",
              "    <tr>\n",
              "      <th>Neighborhood</th>\n",
              "      <td>50.473934</td>\n",
              "    </tr>\n",
              "    <tr>\n",
              "      <th>Latitude</th>\n",
              "      <td>50.473934</td>\n",
              "    </tr>\n",
              "    <tr>\n",
              "      <th>Longitude</th>\n",
              "      <td>50.473934</td>\n",
              "    </tr>\n",
              "    <tr>\n",
              "      <th>YearBuilt</th>\n",
              "      <td>50.473934</td>\n",
              "    </tr>\n",
              "    <tr>\n",
              "      <th>NumberofBuildings</th>\n",
              "      <td>50.710900</td>\n",
              "    </tr>\n",
              "    <tr>\n",
              "      <th>NumberofFloors</th>\n",
              "      <td>50.473934</td>\n",
              "    </tr>\n",
              "    <tr>\n",
              "      <th>PropertyGFATotal</th>\n",
              "      <td>50.473934</td>\n",
              "    </tr>\n",
              "    <tr>\n",
              "      <th>PropertyGFAParking</th>\n",
              "      <td>50.473934</td>\n",
              "    </tr>\n",
              "    <tr>\n",
              "      <th>PropertyGFABuilding(s)</th>\n",
              "      <td>50.473934</td>\n",
              "    </tr>\n",
              "    <tr>\n",
              "      <th>ListOfAllPropertyUseTypes</th>\n",
              "      <td>50.740521</td>\n",
              "    </tr>\n",
              "    <tr>\n",
              "      <th>LargestPropertyUseType</th>\n",
              "      <td>51.007109</td>\n",
              "    </tr>\n",
              "    <tr>\n",
              "      <th>LargestPropertyUseTypeGFA</th>\n",
              "      <td>51.007109</td>\n",
              "    </tr>\n",
              "    <tr>\n",
              "      <th>SecondLargestPropertyUseType</th>\n",
              "      <td>99.674171</td>\n",
              "    </tr>\n",
              "    <tr>\n",
              "      <th>SecondLargestPropertyUseTypeGFA</th>\n",
              "      <td>99.674171</td>\n",
              "    </tr>\n",
              "    <tr>\n",
              "      <th>ThirdLargestPropertyUseType</th>\n",
              "      <td>99.911137</td>\n",
              "    </tr>\n",
              "    <tr>\n",
              "      <th>ThirdLargestPropertyUseTypeGFA</th>\n",
              "      <td>99.911137</td>\n",
              "    </tr>\n",
              "    <tr>\n",
              "      <th>YearsENERGYSTARCertified</th>\n",
              "      <td>99.377962</td>\n",
              "    </tr>\n",
              "    <tr>\n",
              "      <th>ENERGYSTARScore</th>\n",
              "      <td>58.886256</td>\n",
              "    </tr>\n",
              "    <tr>\n",
              "      <th>SiteEUI(kBtu/sf)</th>\n",
              "      <td>50.651659</td>\n",
              "    </tr>\n",
              "    <tr>\n",
              "      <th>SiteEUIWN(kBtu/sf)</th>\n",
              "      <td>50.622038</td>\n",
              "    </tr>\n",
              "    <tr>\n",
              "      <th>SourceEUI(kBtu/sf)</th>\n",
              "      <td>50.740521</td>\n",
              "    </tr>\n",
              "    <tr>\n",
              "      <th>SourceEUIWN(kBtu/sf)</th>\n",
              "      <td>50.740521</td>\n",
              "    </tr>\n",
              "    <tr>\n",
              "      <th>SiteEnergyUse(kBtu)</th>\n",
              "      <td>50.622038</td>\n",
              "    </tr>\n",
              "    <tr>\n",
              "      <th>SiteEnergyUseWN(kBtu)</th>\n",
              "      <td>50.622038</td>\n",
              "    </tr>\n",
              "    <tr>\n",
              "      <th>SteamUse(kBtu)</th>\n",
              "      <td>50.740521</td>\n",
              "    </tr>\n",
              "    <tr>\n",
              "      <th>Electricity(kWh)</th>\n",
              "      <td>50.740521</td>\n",
              "    </tr>\n",
              "    <tr>\n",
              "      <th>Electricity(kBtu)</th>\n",
              "      <td>50.740521</td>\n",
              "    </tr>\n",
              "    <tr>\n",
              "      <th>NaturalGas(therms)</th>\n",
              "      <td>50.740521</td>\n",
              "    </tr>\n",
              "    <tr>\n",
              "      <th>NaturalGas(kBtu)</th>\n",
              "      <td>50.740521</td>\n",
              "    </tr>\n",
              "    <tr>\n",
              "      <th>DefaultData</th>\n",
              "      <td>50.473934</td>\n",
              "    </tr>\n",
              "    <tr>\n",
              "      <th>Comments</th>\n",
              "      <td>100.000000</td>\n",
              "    </tr>\n",
              "    <tr>\n",
              "      <th>ComplianceStatus</th>\n",
              "      <td>50.473934</td>\n",
              "    </tr>\n",
              "    <tr>\n",
              "      <th>Outlier</th>\n",
              "      <td>99.466825</td>\n",
              "    </tr>\n",
              "    <tr>\n",
              "      <th>TotalGHGEmissions</th>\n",
              "      <td>50.740521</td>\n",
              "    </tr>\n",
              "    <tr>\n",
              "      <th>GHGEmissionsIntensity</th>\n",
              "      <td>50.740521</td>\n",
              "    </tr>\n",
              "  </tbody>\n",
              "</table>\n",
              "</div><br><label><b>dtype:</b> float64</label>"
            ]
          },
          "metadata": {}
        }
      ]
    },
    {
      "cell_type": "markdown",
      "source": [
        "D) Identifier les colonnes avec plus de 51% de valeurs manquantes"
      ],
      "metadata": {
        "id": "ZIMkBTVMEj6Y"
      }
    },
    {
      "cell_type": "code",
      "source": [
        "colonnes_a_supprimer = missing_data_percent[missing_data_percent > 51].index.tolist()\n",
        "print(\"Colonnes avec plus de 51% de valeurs manquantes :\")\n",
        "print(colonnes_a_supprimer)"
      ],
      "metadata": {
        "colab": {
          "base_uri": "https://localhost:8080/"
        },
        "id": "tQxGk6MUExLN",
        "outputId": "7b8c46be-63cb-4db3-c514-2bcba17427c0"
      },
      "execution_count": 8,
      "outputs": [
        {
          "output_type": "stream",
          "name": "stdout",
          "text": [
            "Colonnes avec plus de 51% de valeurs manquantes :\n",
            "['LargestPropertyUseType', 'LargestPropertyUseTypeGFA', 'SecondLargestPropertyUseType', 'SecondLargestPropertyUseTypeGFA', 'ThirdLargestPropertyUseType', 'ThirdLargestPropertyUseTypeGFA', 'YearsENERGYSTARCertified', 'ENERGYSTARScore', 'Comments', 'Outlier']\n"
          ]
        }
      ]
    },
    {
      "cell_type": "markdown",
      "source": [
        "E) Supprimer ces colonnes du DataFrame"
      ],
      "metadata": {
        "id": "skNFlZRUFhB1"
      }
    },
    {
      "cell_type": "code",
      "source": [
        "data_prepa = data_prepa.drop(columns=colonnes_a_supprimer)\n",
        "print(\"\\nDataFrame après suppression des colonnes :\")\n",
        "print(f\"Nombre de colonnes restantes : {data_prepa.shape[1]}\")"
      ],
      "metadata": {
        "colab": {
          "base_uri": "https://localhost:8080/"
        },
        "id": "wQIySiYDFsHc",
        "outputId": "e71225b4-7058-4100-bcf0-09f954de994a"
      },
      "execution_count": 9,
      "outputs": [
        {
          "output_type": "stream",
          "name": "stdout",
          "text": [
            "\n",
            "DataFrame après suppression des colonnes :\n",
            "Nombre de colonnes restantes : 36\n"
          ]
        }
      ]
    },
    {
      "cell_type": "markdown",
      "source": [
        "F) liste des 36 colonnes restantes"
      ],
      "metadata": {
        "id": "yAcO_abPRqSf"
      }
    },
    {
      "cell_type": "code",
      "source": [
        "print(\"\\nColonnes restantes dans le DataFrame :\")\n",
        "print(data_prepa.columns.tolist())"
      ],
      "metadata": {
        "id": "TqyjDII8Q4OM",
        "colab": {
          "base_uri": "https://localhost:8080/"
        },
        "outputId": "b375bb6d-025e-4b80-c8f4-298c6a634ef3"
      },
      "execution_count": 10,
      "outputs": [
        {
          "output_type": "stream",
          "name": "stdout",
          "text": [
            "\n",
            "Colonnes restantes dans le DataFrame :\n",
            "['OSEBuildingID', 'DataYear', 'BuildingType', 'PrimaryPropertyType', 'PropertyName', 'Address', 'City', 'State', 'ZipCode', 'TaxParcelIdentificationNumber', 'CouncilDistrictCode', 'Neighborhood', 'Latitude', 'Longitude', 'YearBuilt', 'NumberofBuildings', 'NumberofFloors', 'PropertyGFATotal', 'PropertyGFAParking', 'PropertyGFABuilding(s)', 'ListOfAllPropertyUseTypes', 'SiteEUI(kBtu/sf)', 'SiteEUIWN(kBtu/sf)', 'SourceEUI(kBtu/sf)', 'SourceEUIWN(kBtu/sf)', 'SiteEnergyUse(kBtu)', 'SiteEnergyUseWN(kBtu)', 'SteamUse(kBtu)', 'Electricity(kWh)', 'Electricity(kBtu)', 'NaturalGas(therms)', 'NaturalGas(kBtu)', 'DefaultData', 'ComplianceStatus', 'TotalGHGEmissions', 'GHGEmissionsIntensity']\n"
          ]
        }
      ]
    },
    {
      "cell_type": "markdown",
      "source": [
        "    Requête réussie\n",
        "\n",
        " Les résultats de la vérification des valeurs manquantes révèlent un problème important : presque toutes les colonnes clés pour notre analyse ont environ 50% de valeurs manquantes.\n",
        "\n",
        "Cela suggère que la moitié des entrées de votre jeu de données n'a pas de données de performance énergétique ni d'émissions.\n",
        "\n",
        "Stratégie de traitement des données manquantes\n",
        "\n",
        "Puisque la variable cible (GHGEmissionsIntensity) est manquante pour la moitié des lignes, il est impossible d'entraîner un modèle sur ces données. Nous devons donc supprimer ces lignes.\n",
        "\n",
        "Pour les autres variables explicatives (features), nous allons utiliser une méthode d'imputation pour remplir les valeurs manquantes. L'imputation est plus judicieuse que la suppression, car elle nous permet de conserver autant de données que possible pour entraîner notre modèle.\n",
        "\n",
        "Voici la stratégie que nous allons mettre en place :\n",
        "\n",
        "    Supprimer les lignes où GHGEmissionsIntensity est manquante.\n",
        "\n",
        "    Identifier les colonnes numériques et catégorielles restantes.\n",
        "\n",
        "    Pour les colonnes numériques, remplacer les valeurs manquantes par la médiane (la médiane est plus robuste que la moyenne en cas de valeurs aberrantes).\n",
        "\n",
        "    Pour les colonnes catégorielles, remplacer les valeurs manquantes par la valeur la plus fréquente (le mode).\n",
        "\n"
      ],
      "metadata": {
        "id": "hx_1BIFhXxIZ"
      }
    },
    {
      "cell_type": "code",
      "source": [
        "import pandas as pd\n",
        "import numpy as np\n",
        "\n",
        "# Étape 1 : Charger le fichier et créer le DataFrame initial\n",
        "try:\n",
        "    # Si le DataFrame 'data' existe déjà, on l'utilise\n",
        "    pass\n",
        "except NameError:\n",
        "    # Sinon, on charge le fichier pour le créer\n",
        "    data = pd.read_csv('DONNEES SEATTLE.csv')\n",
        "\n",
        "# Étape 2 : Créer le DataFrame 'data_modele' avec les colonnes pertinentes\n",
        "colonnes_finales = [\n",
        "    'OSEBuildingID', 'DataYear', 'BuildingType', 'PrimaryPropertyType', 'PropertyName',\n",
        "    'Address', 'City', 'State', 'ZipCode', 'TaxParcelIdentificationNumber',\n",
        "    'CouncilDistrictCode', 'Neighborhood', 'Latitude', 'Longitude', 'YearBuilt',\n",
        "    'NumberofBuildings', 'NumberofFloors', 'PropertyGFATotal', 'PropertyGFAParking',\n",
        "    'PropertyGFABuilding(s)', 'ListOfAllPropertyUseTypes', 'SiteEUI(kBtu/sf)',\n",
        "    'SiteEUIWN(kBtu/sf)', 'SourceEUI(kBtu/sf)', 'SourceEUIWN(kBtu/sf)',\n",
        "    'SiteEnergyUse(kBtu)', 'SiteEnergyUseWN(kBtu)', 'SteamUse(kBtu)',\n",
        "    'Electricity(kWh)', 'Electricity(kBtu)', 'NaturalGas(therms)',\n",
        "    'NaturalGas(kBtu)', 'DefaultData', 'ComplianceStatus',\n",
        "    'TotalGHGEmissions', 'GHGEmissionsIntensity'\n",
        "]\n",
        "colonnes_existantes = [col for col in colonnes_finales if col in data.columns]\n",
        "data_modele = data[colonnes_existantes].copy()\n",
        "\n",
        "\n",
        "# Étape 3 : Supprimer les lignes où la variable cible est manquante\n",
        "data_modele = data_modele.dropna(subset=['GHGEmissionsIntensity'])\n",
        "print(f\"Nombre de lignes après suppression des valeurs manquantes dans la variable cible : {len(data_modele)}\")\n",
        "\n",
        "\n",
        "# Étape 4 : Imputer les valeurs manquantes dans les autres colonnes\n",
        "colonnes_numeriques = data_modele.select_dtypes(include=np.number).columns.tolist()\n",
        "colonnes_categorielles = data_modele.select_dtypes(include='object').columns.tolist()\n",
        "\n",
        "for col in colonnes_numeriques:\n",
        "    median_val = data_modele[col].median()\n",
        "    data_modele[col].fillna(median_val, inplace=True)\n",
        "\n",
        "for col in colonnes_categorielles:\n",
        "    mode_val = data_modele[col].mode()[0]\n",
        "    data_modele[col].fillna(mode_val, inplace=True)\n",
        "\n",
        "\n",
        "# Étape 5 : Vérifier qu'il ne reste plus de valeurs manquantes\n",
        "print(\"\\nPourcentage de valeurs manquantes après imputation :\")\n",
        "missing_data_final = data_modele.isnull().sum()\n",
        "missing_data_final_percent = (missing_data_final / len(data_modele)) * 100\n",
        "print(missing_data_final_percent[missing_data_final_percent > 0].sort_values(ascending=False))"
      ],
      "metadata": {
        "colab": {
          "base_uri": "https://localhost:8080/"
        },
        "id": "FhuL5777aGBD",
        "outputId": "2457888f-16d5-4101-a12c-55354f948b1e"
      },
      "execution_count": 11,
      "outputs": [
        {
          "output_type": "stream",
          "name": "stdout",
          "text": [
            "Nombre de lignes après suppression des valeurs manquantes dans la variable cible : 1663\n",
            "\n",
            "Pourcentage de valeurs manquantes après imputation :\n",
            "Series([], dtype: float64)\n"
          ]
        },
        {
          "output_type": "stream",
          "name": "stderr",
          "text": [
            "/tmp/ipython-input-2079869887.py:40: FutureWarning: A value is trying to be set on a copy of a DataFrame or Series through chained assignment using an inplace method.\n",
            "The behavior will change in pandas 3.0. This inplace method will never work because the intermediate object on which we are setting values always behaves as a copy.\n",
            "\n",
            "For example, when doing 'df[col].method(value, inplace=True)', try using 'df.method({col: value}, inplace=True)' or df[col] = df[col].method(value) instead, to perform the operation inplace on the original object.\n",
            "\n",
            "\n",
            "  data_modele[col].fillna(median_val, inplace=True)\n",
            "/tmp/ipython-input-2079869887.py:44: FutureWarning: A value is trying to be set on a copy of a DataFrame or Series through chained assignment using an inplace method.\n",
            "The behavior will change in pandas 3.0. This inplace method will never work because the intermediate object on which we are setting values always behaves as a copy.\n",
            "\n",
            "For example, when doing 'df[col].method(value, inplace=True)', try using 'df.method({col: value}, inplace=True)' or df[col] = df[col].method(value) instead, to perform the operation inplace on the original object.\n",
            "\n",
            "\n",
            "  data_modele[col].fillna(mode_val, inplace=True)\n"
          ]
        }
      ]
    },
    {
      "cell_type": "markdown",
      "source": [
        "G) Les algorithmes de machine learning ne peuvent pas traiter les données de type texte. Il faut donc convertir les colonnes comme BuildingType et PrimaryPropertyType en un format numérique que le modèle comprendra. Pour cela, nous utiliserons la technique de l'encodage One-Hot."
      ],
      "metadata": {
        "id": "wgr5vuRmalA6"
      }
    },
    {
      "cell_type": "code",
      "source": [
        "# Identifier les colonnes catégorielles à encoder\n",
        "colonnes_a_encoder = data_modele.select_dtypes(include='object').columns.tolist()\n",
        "\n",
        "print(\"Colonnes catégorielles à encoder :\", colonnes_a_encoder)\n",
        "\n",
        "# Utiliser la méthode pd.get_dummies() pour l'encodage One-Hot\n",
        "data_modele_encoded = pd.get_dummies(data_modele, columns=colonnes_a_encoder, dtype=int)\n",
        "\n",
        "# Afficher les nouvelles informations du DataFrame\n",
        "print(\"\\nInformations sur le DataFrame après encodage :\")\n",
        "print(data_modele_encoded.info())\n",
        "\n",
        "# Afficher les 5 premières lignes du nouveau DataFrame pour voir les colonnes créées\n",
        "print(\"\\nAperçu du DataFrame encodé :\")\n",
        "print(data_modele_encoded.head())"
      ],
      "metadata": {
        "colab": {
          "base_uri": "https://localhost:8080/"
        },
        "id": "Szys7jE-a0sl",
        "outputId": "73f14d3f-9f8d-4f8b-d05c-b9214ea2eaec"
      },
      "execution_count": 12,
      "outputs": [
        {
          "output_type": "stream",
          "name": "stdout",
          "text": [
            "Colonnes catégorielles à encoder : ['OSEBuildingID', 'BuildingType', 'PrimaryPropertyType', 'PropertyName', 'Address', 'City', 'State', 'TaxParcelIdentificationNumber', 'Neighborhood', 'ListOfAllPropertyUseTypes', 'DefaultData', 'ComplianceStatus']\n",
            "\n",
            "Informations sur le DataFrame après encodage :\n",
            "<class 'pandas.core.frame.DataFrame'>\n",
            "Index: 1663 entries, 0 to 3372\n",
            "Columns: 6720 entries, DataYear to ComplianceStatus_Non-Compliant\n",
            "dtypes: float64(24), int64(6696)\n",
            "memory usage: 85.3 MB\n",
            "None\n",
            "\n",
            "Aperçu du DataFrame encodé :\n",
            "   DataYear  ZipCode  CouncilDistrictCode  Latitude  Longitude  YearBuilt  \\\n",
            "0    2016.0  98101.0                  7.0  47.61220 -122.33799     1927.0   \n",
            "2    2016.0  98101.0                  7.0  47.61393 -122.33810     1969.0   \n",
            "3    2016.0  98101.0                  7.0  47.61412 -122.33664     1926.0   \n",
            "5    2016.0  98101.0                  7.0  47.61623 -122.33657     1999.0   \n",
            "6    2016.0  98101.0                  7.0  47.61390 -122.33283     1926.0   \n",
            "\n",
            "   NumberofBuildings  NumberofFloors  PropertyGFATotal  PropertyGFAParking  \\\n",
            "0                1.0            12.0           88434.0                 0.0   \n",
            "2                1.0            41.0          956110.0            196718.0   \n",
            "3                1.0            10.0           61320.0                 0.0   \n",
            "5                1.0             2.0           97288.0             37198.0   \n",
            "6                1.0            11.0           83008.0                 0.0   \n",
            "\n",
            "   ...  ListOfAllPropertyUseTypes_Supermarket/Grocery Store  \\\n",
            "0  ...                                                  0     \n",
            "2  ...                                                  0     \n",
            "3  ...                                                  0     \n",
            "5  ...                                                  0     \n",
            "6  ...                                                  0     \n",
            "\n",
            "   ListOfAllPropertyUseTypes_Urgent Care/Clinic/Other Outpatient  \\\n",
            "0                                                  0               \n",
            "2                                                  0               \n",
            "3                                                  0               \n",
            "5                                                  0               \n",
            "6                                                  0               \n",
            "\n",
            "   ListOfAllPropertyUseTypes_Wholesale Club/Supercenter  \\\n",
            "0                                                  0      \n",
            "2                                                  0      \n",
            "3                                                  0      \n",
            "5                                                  0      \n",
            "6                                                  0      \n",
            "\n",
            "   ListOfAllPropertyUseTypes_Worship Facility  DefaultData_False  \\\n",
            "0                                           0                  1   \n",
            "2                                           0                  1   \n",
            "3                                           0                  1   \n",
            "5                                           0                  1   \n",
            "6                                           0                  1   \n",
            "\n",
            "   DefaultData_True  ComplianceStatus_Compliant  \\\n",
            "0                 0                           1   \n",
            "2                 0                           1   \n",
            "3                 0                           1   \n",
            "5                 0                           1   \n",
            "6                 0                           1   \n",
            "\n",
            "   ComplianceStatus_Error - Correct Default Data  \\\n",
            "0                                              0   \n",
            "2                                              0   \n",
            "3                                              0   \n",
            "5                                              0   \n",
            "6                                              0   \n",
            "\n",
            "   ComplianceStatus_Missing Data  ComplianceStatus_Non-Compliant  \n",
            "0                              0                               0  \n",
            "2                              0                               0  \n",
            "3                              0                               0  \n",
            "5                              0                               0  \n",
            "6                              0                               0  \n",
            "\n",
            "[5 rows x 6720 columns]\n"
          ]
        }
      ]
    },
    {
      "cell_type": "markdown",
      "source": [
        "H) Maintenant que les données sont prêtes, nous pouvons passer à l'étape finale avant l'entraînement : la séparation en jeux d'entraînement et de test"
      ],
      "metadata": {
        "id": "khyCHgt0dpMT"
      }
    },
    {
      "cell_type": "code",
      "source": [
        "from sklearn.model_selection import train_test_split\n",
        "\n",
        "#  Définir la variable cible (y) et les variables explicatives (X)\n",
        "# 'GHGEmissionsIntensity' est notre variable cible\n",
        "X= data_modele_encoded.drop('GHGEmissionsIntensity', axis=1)\n",
        "y = data_modele_encoded['GHGEmissionsIntensity']\n",
        "\n",
        "# Diviser les données en jeux d'entraînement et de test (80%/20%)\n",
        "# random_state permet de garantir que la division est la même à chaque exécution\n",
        "X_train, X_test, y_train, y_test = train_test_split(X, y, test_size=0.2, random_state=42)\n",
        "\n",
        "# Afficher la taille des nouveaux jeux de données pour vérification\n",
        "print(\"Taille du jeu d'entraînement (X_train) :\", X_train.shape)\n",
        "print(\"Taille du jeu de test (X_test) :\", X_test.shape)\n",
        "print(\"Taille des étiquettes d'entraînement (y_train)  :\", y_test.shape)\n",
        "print(\"Taille des étiquettes de test (y_test) :\", y_test.shape)"
      ],
      "metadata": {
        "colab": {
          "base_uri": "https://localhost:8080/"
        },
        "id": "yZTcHEbPeFKr",
        "outputId": "8f44255e-008e-42c8-9ec9-8091a386e3bc"
      },
      "execution_count": 13,
      "outputs": [
        {
          "output_type": "stream",
          "name": "stdout",
          "text": [
            "Taille du jeu d'entraînement (X_train) : (1330, 6719)\n",
            "Taille du jeu de test (X_test) : (333, 6719)\n",
            "Taille des étiquettes d'entraînement (y_train)  : (333,)\n",
            "Taille des étiquettes de test (y_test) : (333,)\n"
          ]
        }
      ]
    },
    {
      "cell_type": "markdown",
      "source": [
        "G) la modélisation"
      ],
      "metadata": {
        "id": "sZNgYUaqejgn"
      }
    },
    {
      "cell_type": "code",
      "source": [
        "from sklearn.linear_model import LinearRegression\n",
        "from sklearn.metrics import mean_squared_error, r2_score\n",
        "\n",
        "# Créer une instance du modèle de régression linéaire\n",
        "model = LinearRegression()\n",
        "\n",
        "# Entraîner le modèle sur les données d'entraînement\n",
        "model.fit(X_train, y_train)\n",
        "\n",
        "# Faire des prédictions sur le jeu de test\n",
        "y_pred = model.predict(X_test)\n",
        "\n",
        "# Évaluer la performance du modèle\n",
        "mse = mean_squared_error(y_test, y_pred)\n",
        "r2 = r2_score(y_test, y_pred)\n",
        "\n",
        "print(f\"Erreur quadratique moyenne (MSE) : {mse:.2f}\")\n",
        "print(f\"Coefficient de détermination (R-carré) : {r2:.2f}\")"
      ],
      "metadata": {
        "colab": {
          "base_uri": "https://localhost:8080/"
        },
        "id": "pqEuaMVxet1V",
        "outputId": "9211fec2-86ad-4097-8661-b6b1269f9aca"
      },
      "execution_count": 14,
      "outputs": [
        {
          "output_type": "stream",
          "name": "stdout",
          "text": [
            "Erreur quadratique moyenne (MSE) : 0.62\n",
            "Coefficient de détermination (R-carré) : 0.70\n"
          ]
        }
      ]
    },
    {
      "cell_type": "markdown",
      "source": [
        "Interprétation des résultats\n",
        "\n",
        "    Erreur quadratique moyenne (MSE) : Elle mesure la moyenne des erreurs au carré entre les valeurs réelles et les prédictions. Une valeur plus basse indique un meilleur modèle. L'unité est la même que celle de votre variable cible, au carré (ici, (kgCO2e/m²)²).\n",
        "\n",
        "    Coefficient de détermination (R-carré) : Il représente la proportion de la variance de la variable cible (GHGEmissionsIntensity) qui est expliquée par les variables explicatives. Un score de 1.0 indique un modèle parfait, et 0.0 un modèle qui ne fait pas mieux que la moyenne."
      ],
      "metadata": {
        "id": "wg2YM5VJfdGR"
      }
    },
    {
      "cell_type": "markdown",
      "source": [
        "1. Quantitatif vs. Quantitatif\n",
        "\n",
        "Pour comparer deux variables quantitatives (par exemple, la consommation d'énergie et les émissions de GES), un nuage de points (scatter plot) est le meilleur choix. Vous pouvez ainsi visualiser la relation, la force de la corrélation et détecter les outliers."
      ],
      "metadata": {
        "id": "DsHe_ITyhEXe"
      }
    },
    {
      "cell_type": "code",
      "source": [
        "# Créez un nuage de points pour visualiser la relation entre SiteEnergyUse et GHGEmissionsIntensity\n",
        "plt.figure(figsize=(10, 6))\n",
        "sns.scatterplot(x='SiteEnergyUse(kBtu)', y='GHGEmissionsIntensity', data=data_modele)\n",
        "plt.title('Relation entre la consommation d\\'énergie et l\\'intensité des émissions de GES')\n",
        "plt.xlabel('Utilisation d\\'énergie sur site (kBtu)')\n",
        "plt.ylabel('Intensité des émissions de GES (kgCO2e/m²)')\n",
        "plt.show()"
      ],
      "metadata": {
        "colab": {
          "base_uri": "https://localhost:8080/",
          "height": 565
        },
        "id": "bCV3hHmDffor",
        "outputId": "0364d77a-57d5-46e3-d446-3d3545b029f4"
      },
      "execution_count": 15,
      "outputs": [
        {
          "output_type": "display_data",
          "data": {
            "text/plain": [
              "<Figure size 1000x600 with 1 Axes>"
            ],
            "image/png": "[encoded data removed]"
          },
          "metadata": {}
        }
      ]
    },
    {
      "cell_type": "markdown",
      "source": [
        "2. Qualitatif vs. Quantitatif\n",
        "\n",
        "Pour comparer une variable qualitative (comme le type de bâtiment) avec une variable quantitative, un diagramme en boîte (box plot) ou un diagramme en violon (violin plot) est idéal. Ces graphiques vous montrent la distribution de la variable quantitative pour chaque catégorie de la variable qualitative."
      ],
      "metadata": {
        "id": "FSiY7KoJgpQO"
      }
    },
    {
      "cell_type": "code",
      "source": [
        "# Créez un diagramme en boîte pour voir la distribution des émissions par type de bâtiment\n",
        "plt.figure(figsize=(14, 8))\n",
        "sns.boxplot(x='BuildingType', y='GHGEmissionsIntensity', data=data_modele)\n",
        "plt.title('Distribution des émissions par type de bâtiment')\n",
        "plt.xticks(rotation=45, ha='right')\n",
        "plt.show()"
      ],
      "metadata": {
        "colab": {
          "base_uri": "https://localhost:8080/",
          "height": 769
        },
        "id": "Awoi6JSjg5j-",
        "outputId": "bac639a9-19a3-4a47-dbe1-566ff1effd3e"
      },
      "execution_count": 16,
      "outputs": [
        {
          "output_type": "display_data",
          "data": {
            "text/plain": [
              "<Figure size 1400x800 with 1 Axes>"
            ],
            "image/png": "[encoded data removed]"
          },
          "metadata": {}
        }
      ]
    },
    {
      "cell_type": "markdown",
      "source": [
        "Gérer les incohérences et garder une trace du nettoyage\n",
        "\n",
        "Il est essentiel de documenter les étapes de nettoyage pour garantir la reproductibilité. Vous avez déjà fait un excellent travail en enregistrant le nombre de lignes après la suppression des valeurs manquantes.\n",
        "\n",
        "Pour les incohérences, vous devez d'abord les identifier. Voici comment trouver des bâtiments dont la surface de stationnement est supérieure à la surface totale du bâtiment, ce qui est une incohérence évidente."
      ],
      "metadata": {
        "id": "x5xU3N-6hcPQ"
      }
    },
    {
      "cell_type": "code",
      "source": [
        "# Sauvegarder le nombre de lignes initial avant le nettoyage\n",
        "lignes_initiales = len(data_modele)\n",
        "print(f\"Nombre de lignes initial : {lignes_initiales}\")\n",
        "\n",
        "# Identifier les bâtiments où la surface de stationnement est > à la surface totale\n",
        "incoherences_parking = data_modele[data_modele['PropertyGFAParking'] > data_modele['PropertyGFATotal']]\n",
        "\n",
        "print(f\"Nombre de bâtiments avec une surface de parking incohérente : {len(incoherences_parking)}\")\n",
        "\n",
        "# Supprimer ces lignes incohérentes\n",
        "data_modele_clean = data_modele.drop(incoherences_parking.index)\n",
        "\n",
        "# Enregistrer le nombre de lignes après le nettoyage\n",
        "lignes_finales = len(data_modele_clean)\n",
        "print(f\"Nombre de lignes final après nettoyage : {lignes_finales}\")\n",
        "print(f\"Nombre de lignes supprimées : {lignes_initiales - lignes_finales}\")"
      ],
      "metadata": {
        "colab": {
          "base_uri": "https://localhost:8080/"
        },
        "id": "rr5r71s6hi53",
        "outputId": "2eb56a54-6bf9-465f-d30b-ba35d368bf06"
      },
      "execution_count": 17,
      "outputs": [
        {
          "output_type": "stream",
          "name": "stdout",
          "text": [
            "Nombre de lignes initial : 1663\n",
            "Nombre de bâtiments avec une surface de parking incohérente : 0\n",
            "Nombre de lignes final après nettoyage : 1663\n",
            "Nombre de lignes supprimées : 0\n"
          ]
        }
      ]
    },
    {
      "cell_type": "markdown",
      "source": [
        "I) Le notebook template avec la partie \"Feature Engineering” complétée"
      ],
      "metadata": {
        "id": "lZ7yKrNwCBX0"
      }
    },
    {
      "cell_type": "code",
      "source": [
        "import pandas as pd\n",
        "import numpy as np\n",
        "from sklearn.model_selection import train_test_split\n",
        "from sklearn.linear_model import LinearRegression\n",
        "from sklearn.metrics import mean_squared_error, r2_score\n",
        "\n",
        "# Étape 1 : Charger les données et nettoyer les valeurs manquantes\n",
        "try:\n",
        "    # Si le DataFrame 'data' est déjà chargé, on le garde\n",
        "    pass\n",
        "except NameError:\n",
        "    # Sinon, on le charge depuis le fichier\n",
        "    data = pd.read_csv('DONNEES SEATTLE.csv')\n",
        "\n",
        "# Liste des colonnes pertinentes\n",
        "colonnes_pertinentes = [\n",
        "    'OSEBuildingID', 'DataYear', 'BuildingType', 'PrimaryPropertyType', 'PropertyName',\n",
        "    'Address', 'City', 'State', 'ZipCode', 'TaxParcelIdentificationNumber',\n",
        "    'CouncilDistrictCode', 'Neighborhood', 'Latitude', 'Longitude', 'YearBuilt',\n",
        "    'NumberofBuildings', 'NumberofFloors', 'PropertyGFATotal', 'PropertyGFAParking',\n",
        "    'PropertyGFABuilding(s)', 'ListOfAllPropertyUseTypes', 'SiteEUI(kBtu/sf)',\n",
        "    'SiteEUIWN(kBtu/sf)', 'SourceEUI(kBtu/sf)', 'SourceEUIWN(kBtu/sf)',\n",
        "    'SiteEnergyUse(kBtu)', 'SiteEnergyUseWN(kBtu)', 'SteamUse(kBtu)',\n",
        "    'Electricity(kWh)', 'Electricity(kBtu)', 'NaturalGas(therms)',\n",
        "    'NaturalGas(kBtu)', 'DefaultData', 'ComplianceStatus',\n",
        "    'TotalGHGEmissions', 'GHGEmissionsIntensity'\n",
        "]\n",
        "\n",
        "data_modele = data[colonnes_pertinentes].copy()\n",
        "data_modele = data_modele.dropna(subset=['GHGEmissionsIntensity'])\n",
        "print(f\"Nombre de lignes après suppression des valeurs manquantes dans la variable cible : {len(data_modele)}\")\n",
        "\n",
        "colonnes_numeriques = data_modele.select_dtypes(include=np.number).columns.tolist()\n",
        "colonnes_categorielles = data_modele.select_dtypes(include='object').columns.tolist()\n",
        "\n",
        "for col in colonnes_numeriques:\n",
        "    median_val = data_modele[col].median()\n",
        "    data_modele[col].fillna(median_val, inplace=True)\n",
        "\n",
        "for col in colonnes_categorielles:\n",
        "    mode_val = data_modele[col].mode()[0]\n",
        "    data_modele[col].fillna(mode_val, inplace=True)\n",
        "\n",
        "# Étape 2 : Encodage One-Hot\n",
        "colonnes_a_encoder = data_modele.select_dtypes(include='object').columns.tolist()\n",
        "data_modele_encoded = pd.get_dummies(data_modele, columns=colonnes_a_encoder, dtype=int)\n",
        "print(\"\\nDataFrame après encodage :\")\n",
        "print(data_modele_encoded.info())\n",
        "\n",
        "# Étape 3 : Feature Engineering\n",
        "data_engineering = data_modele_encoded.copy()\n",
        "data_engineering['BuildingAge'] = 2016 - data_engineering['YearBuilt']\n",
        "data_engineering['Parking_GFA_Ratio'] = data_engineering['PropertyGFAParking'] / data_engineering['PropertyGFATotal']\n",
        "data_engineering['Parking_GFA_Ratio'].replace([np.inf, -np.inf], 0, inplace=True)\n",
        "data_engineering['Parking_GFA_Ratio'].fillna(0, inplace=True)\n",
        "data_engineering['Has_Electricity'] = (data_engineering['Electricity(kWh)'] > 0).astype(int)\n",
        "data_engineering['Has_NaturalGas'] = (data_engineering['NaturalGas(therms)'] > 0).astype(int)\n",
        "data_engineering['Has_Steam'] = (data_engineering['SteamUse(kBtu)'] > 0).astype(int)\n",
        "\n",
        "# Étape 4 : Séparation des données\n",
        "X = data_engineering.drop('GHGEmissionsIntensity', axis=1)\n",
        "y = data_engineering['GHGEmissionsIntensity']\n",
        "\n",
        "X_train, X_test, y_train, y_test = train_test_split(X, y, test_size=0.2, random_state=42)\n",
        "\n",
        "# Étape 5 : Entraînement et évaluation du modèle\n",
        "model = LinearRegression()\n",
        "model.fit(X_train, y_train)\n",
        "\n",
        "y_pred = model.predict(X_test)\n",
        "mse = mean_squared_error(y_test, y_pred)\n",
        "r2 = r2_score(y_test, y_pred)\n",
        "\n",
        "print(f\"\\nErreur quadratique moyenne (MSE) : {mse:.2f}\")\n",
        "print(f\"Coefficient de détermination (R-carré) : {r2:.2f}\")"
      ],
      "metadata": {
        "colab": {
          "base_uri": "https://localhost:8080/"
        },
        "id": "XSce8gKxCKW3",
        "outputId": "cb4d753d-97c3-4524-f827-2a07fd1b844c"
      },
      "execution_count": 18,
      "outputs": [
        {
          "output_type": "stream",
          "name": "stdout",
          "text": [
            "Nombre de lignes après suppression des valeurs manquantes dans la variable cible : 1663\n",
            "\n",
            "DataFrame après encodage :\n"
          ]
        },
        {
          "output_type": "stream",
          "name": "stderr",
          "text": [
            "/tmp/ipython-input-2211674575.py:38: FutureWarning: A value is trying to be set on a copy of a DataFrame or Series through chained assignment using an inplace method.\n",
            "The behavior will change in pandas 3.0. This inplace method will never work because the intermediate object on which we are setting values always behaves as a copy.\n",
            "\n",
            "For example, when doing 'df[col].method(value, inplace=True)', try using 'df.method({col: value}, inplace=True)' or df[col] = df[col].method(value) instead, to perform the operation inplace on the original object.\n",
            "\n",
            "\n",
            "  data_modele[col].fillna(median_val, inplace=True)\n",
            "/tmp/ipython-input-2211674575.py:42: FutureWarning: A value is trying to be set on a copy of a DataFrame or Series through chained assignment using an inplace method.\n",
            "The behavior will change in pandas 3.0. This inplace method will never work because the intermediate object on which we are setting values always behaves as a copy.\n",
            "\n",
            "For example, when doing 'df[col].method(value, inplace=True)', try using 'df.method({col: value}, inplace=True)' or df[col] = df[col].method(value) instead, to perform the operation inplace on the original object.\n",
            "\n",
            "\n",
            "  data_modele[col].fillna(mode_val, inplace=True)\n"
          ]
        },
        {
          "output_type": "stream",
          "name": "stdout",
          "text": [
            "<class 'pandas.core.frame.DataFrame'>\n",
            "Index: 1663 entries, 0 to 3372\n",
            "Columns: 6720 entries, DataYear to ComplianceStatus_Non-Compliant\n",
            "dtypes: float64(24), int64(6696)\n",
            "memory usage: 85.3 MB\n",
            "None\n"
          ]
        },
        {
          "output_type": "stream",
          "name": "stderr",
          "text": [
            "/tmp/ipython-input-2211674575.py:54: FutureWarning: A value is trying to be set on a copy of a DataFrame or Series through chained assignment using an inplace method.\n",
            "The behavior will change in pandas 3.0. This inplace method will never work because the intermediate object on which we are setting values always behaves as a copy.\n",
            "\n",
            "For example, when doing 'df[col].method(value, inplace=True)', try using 'df.method({col: value}, inplace=True)' or df[col] = df[col].method(value) instead, to perform the operation inplace on the original object.\n",
            "\n",
            "\n",
            "  data_engineering['Parking_GFA_Ratio'].replace([np.inf, -np.inf], 0, inplace=True)\n",
            "/tmp/ipython-input-2211674575.py:55: FutureWarning: A value is trying to be set on a copy of a DataFrame or Series through chained assignment using an inplace method.\n",
            "The behavior will change in pandas 3.0. This inplace method will never work because the intermediate object on which we are setting values always behaves as a copy.\n",
            "\n",
            "For example, when doing 'df[col].method(value, inplace=True)', try using 'df.method({col: value}, inplace=True)' or df[col] = df[col].method(value) instead, to perform the operation inplace on the original object.\n",
            "\n",
            "\n",
            "  data_engineering['Parking_GFA_Ratio'].fillna(0, inplace=True)\n"
          ]
        },
        {
          "output_type": "stream",
          "name": "stdout",
          "text": [
            "\n",
            "Erreur quadratique moyenne (MSE) : 0.61\n",
            "Coefficient de détermination (R-carré) : 0.71\n"
          ]
        }
      ]
    },
    {
      "cell_type": "markdown",
      "source": [
        "Les résultats  montrent que le \"Feature Engineering\" a eu un impact positif.\n",
        "\n",
        "    le coefficient de détermination (R-carré) est passé de 0,70 à 0,71. C'est une légère amélioration qui indique que votre modèle, avec les nouvelles variables, explique un peu mieux la variance des émissions de GES.\n",
        "\n",
        "     l'erreur quadratique moyenne (MSE) a légèrement diminué, passant de 0,62 à 0,61. Cela signifie que les erreurs du modèle sont, en moyenne, un peu plus petites.\n",
        "\n",
        "Ces deux indicateurs confirment que les nouvelles variables qu'on a créées, telles que l'ancienneté du bâtiment ou les ratios de surface, ont aidé le modèle à faire des prédictions légèrement plus précises. C'est la preuve concrète de l'utilité du \"Feature Engineering"
      ],
      "metadata": {
        "id": "qNH5e3FwDplg"
      }
    },
    {
      "cell_type": "markdown",
      "source": [
        "J) ETAPE 3 Preparez les features pour la modelisation"
      ],
      "metadata": {
        "id": "JcgeTyMkiIaD"
      }
    },
    {
      "cell_type": "markdown",
      "source": [
        "1. Choix et traitement de la variable cible\n",
        "\n",
        "Mon premier choix a été de sélectionner GHGEmissionsIntensity comme variable cible. Cette variable est plus pertinente pour l'objectif d'efficacité énergétique car elle est normalisée par la surface du bâtiment, permettant une comparaison équitable entre des bâtiments de tailles différentes.\n",
        "\n",
        "Pour le traitement des valeurs manquantes, j'ai pris la décision de supprimer les lignes où cette variable cible était absente. Cette approche était nécessaire, car un modèle ne peut pas être entraîné pour prédire une valeur qu'il ne connaît pas.\n",
        "\n",
        "2. Préparation et nettoyage du jeu de données\n",
        "\n",
        "Après avoir filtré les données sur la variable cible, j'ai procédé à un nettoyage minutieux :\n",
        "\n",
        "    J'ai utilisé une stratégie d'imputation pour remplir les valeurs manquantes restantes dans les autres colonnes. J'ai choisi la médiane pour les variables numériques afin de ne pas être influencé par les valeurs extrêmes et le mode pour les variables catégorielles. Cette méthode a permis de conserver la taille de l'ensemble de données sans compromettre la qualité.\n",
        "\n",
        "    J'ai utilisé l'encodage One-Hot sur les variables catégorielles (BuildingType, PrimaryPropertyType, etc.). Ce choix était pertinent car ces variables n'ont pas d'ordre intrinsèque, et le One-Hot Encoding crée des colonnes binaires qui n'induisent pas de hiérarchie pour le modèle, ce qui est préférable à un LabelEncoder dans ce cas.\n",
        "\n",
        "3. Ingénierie des fonctionnalités (Feature Engineering)\n",
        "\n",
        "J'ai ensuite créé de nouvelles fonctionnalités pour enrichir les informations disponibles pour le modèle, tout en étant très vigilant pour éviter le data leakage :\n",
        "\n",
        "    J'ai créé l'âge du bâtiment en soustrayant l'année de construction de l'année des données.\n",
        "\n",
        "    J'ai créé un ratio de surface entre la surface du parking et la surface totale pour indiquer la proportion de l'espace allouée au stationnement.\n",
        "\n",
        "    Pour les sources d'énergie, j'ai évité d'utiliser les valeurs de consommation, qui créeraient un data leakage. J'ai plutôt créé des variables binaires pour indiquer la simple présence ou absence d'une source d'énergie (gaz, électricité, etc.).\n",
        "\n",
        "4. Résultats et perspectives\n",
        "\n",
        "L'ingénierie des fonctionnalités a été un succès. En ré-entraînant le modèle, j'ai constaté une légère amélioration des performances, comme en témoignent la légère augmentation du R-carré (de 0.70 à 0.71) et la diminution de l'erreur quadratique moyenne (de 0.62 à 0.61)"
      ],
      "metadata": {
        "id": "4Z8uyZE-iXNr"
      }
    },
    {
      "cell_type": "markdown",
      "source": [
        "K) PARTIE 4 Comparez plusieurs modeles supervisés"
      ],
      "metadata": {
        "id": "KTY7F3aNkDg2"
      }
    },
    {
      "cell_type": "code",
      "source": [
        "from sklearn.model_selection import cross_validate\n",
        "from sklearn.linear_model import LinearRegression\n",
        "from sklearn.ensemble import RandomForestRegressor, GradientBoostingRegressor\n",
        "from sklearn.metrics import r2_score, mean_absolute_error\n",
        "import pandas as pd\n",
        "\n",
        "# Redéfinir X et y avec les données d'ingénierie des features\n",
        "# Assurez-vous d'avoir exécuté le code des étapes précédentes\n",
        "X = data_engineering.drop('GHGEmissionsIntensity', axis=1)\n",
        "y = data_engineering['GHGEmissionsIntensity']\n",
        "\n",
        "# Définir les modèles à comparer\n",
        "models = {\n",
        "    'Régression Linéaire': LinearRegression(),\n",
        "    'Forêt Aléatoire': RandomForestRegressor(random_state=42),\n",
        "    'Gradient Boosting': GradientBoostingRegressor(random_state=42)\n",
        "}\n",
        "\n",
        "results = {}\n",
        "\n",
        "print(\"Résultats de la validation croisée :\")\n",
        "print(\"-\" * 40)\n",
        "\n",
        "for model_name, model in models.items():\n",
        "    # Utiliser cross_validate pour obtenir plusieurs scores\n",
        "    scores = cross_validate(\n",
        "        model,\n",
        "        X,\n",
        "        y,\n",
        "        scoring=['r2', 'neg_mean_absolute_error'],\n",
        "        cv=5,\n",
        "        n_jobs=-1\n",
        "    )\n",
        "\n",
        "    # Calculer la moyenne des scores pour chaque métrique\n",
        "    mean_r2 = scores['test_r2'].mean()\n",
        "    mean_mae = -scores['test_neg_mean_absolute_error'].mean() # Négatif pour obtenir une valeur positive\n",
        "\n",
        "    results[model_name] = {'R2': mean_r2, 'MAE': mean_mae}\n",
        "\n",
        "    print(f\"Modèle : {model_name}\")\n",
        "    print(f\"  R-carré (R2) moyen : {mean_r2:.4f}\")\n",
        "    print(f\"  Erreur Absolue Moyenne (MAE) : {mean_mae:.4f}\")\n",
        "    print(\"-\" * 40)\n",
        "\n",
        "# Afficher les résultats sous forme de DataFrame pour une comparaison facile\n",
        "results_df = pd.DataFrame(results).T\n",
        "print(\"\\nTableau comparatif des modèles :\")\n",
        "print(results_df.round(4))"
      ],
      "metadata": {
        "colab": {
          "base_uri": "https://localhost:8080/"
        },
        "id": "czgPK2qskslM",
        "outputId": "19d9011c-3841-45a0-8d6f-84f81284805f"
      },
      "execution_count": 19,
      "outputs": [
        {
          "output_type": "stream",
          "name": "stdout",
          "text": [
            "Résultats de la validation croisée :\n",
            "----------------------------------------\n",
            "Modèle : Régression Linéaire\n",
            "  R-carré (R2) moyen : 0.7337\n",
            "  Erreur Absolue Moyenne (MAE) : 0.2397\n",
            "----------------------------------------\n",
            "Modèle : Forêt Aléatoire\n",
            "  R-carré (R2) moyen : 0.7958\n",
            "  Erreur Absolue Moyenne (MAE) : 0.2143\n",
            "----------------------------------------\n",
            "Modèle : Gradient Boosting\n",
            "  R-carré (R2) moyen : 0.8451\n",
            "  Erreur Absolue Moyenne (MAE) : 0.2073\n",
            "----------------------------------------\n",
            "\n",
            "Tableau comparatif des modèles :\n",
            "                         R2     MAE\n",
            "Régression Linéaire  0.7337  0.2397\n",
            "Forêt Aléatoire      0.7958  0.2143\n",
            "Gradient Boosting    0.8451  0.2073\n"
          ]
        }
      ]
    },
    {
      "cell_type": "markdown",
      "source": [
        "Une fois que vous vous êtes fixés sur votre approche de modélisation (quelles métriques d'évaluation, comment vous séparez en train-test etc.), réécrivez votre code au sein d'une fonction que vous pouvez appeler pour chaque modèle et qui réalise toute la démarche de modélisation d'un seul coup (nous appelons ceci du refactoring de code)."
      ],
      "metadata": {
        "id": "3_AwobtjOW1X"
      }
    },
    {
      "cell_type": "code",
      "source": [
        "import pandas as pd\n",
        "from sklearn.model_selection import train_test_split\n",
        "from sklearn.metrics import mean_squared_error, r2_score\n",
        "from sklearn.linear_model import LinearRegression\n",
        "import numpy as np\n",
        "\n",
        "def entrainer_et_evaluer_modele_seattle(modele):\n",
        "    \"\"\"\n",
        "    Charge les données, prépare les caractéristiques et la cible,\n",
        "    entraîne un modèle de régression et évalue ses performances.\n",
        "\n",
        "    Args:\n",
        "        modele: L'instance du modèle de régression à entraîner (par exemple, LinearRegression()).\n",
        "\n",
        "    Returns:\n",
        "        Un dictionnaire contenant les métriques d'évaluation (RMSE et R-carré).\n",
        "    \"\"\"\n",
        "    # 1. Chargement des données\n",
        "    try:\n",
        "        df = pd.read_csv(\"donnees_seattle.csv\")\n",
        "    except FileNotFoundError:\n",
        "        return {\"erreur\": \"Le fichier donnees_seattle.csv n'a pas été trouvé.\"}\n",
        "\n",
        "    # 2. Définition des caractéristiques (features) et de la cible (target)\n",
        "    # Nous utilisons des colonnes numériques pertinentes pour la modélisation de la régression\n",
        "    features = ['PropertyGFABuilding(s)', 'SiteEUI(kBtu/sf)', 'SourceEUI(kBtu/sf)', 'YearBuilt']\n",
        "    target = 'GHGEmissionsIntensity'\n",
        "\n",
        "    # 3. Nettoyage des données : suppression des lignes avec des valeurs manquantes\n",
        "    df_cleaned = df.dropna(subset=features + [target])\n",
        "\n",
        "    # 4. Préparation des variables X et y\n",
        "    X = df_cleaned[features]\n",
        "    y = df_cleaned[target]\n",
        "\n",
        "    # 5. Séparation en ensembles d'entraînement et de test\n",
        "    X_train, X_test, y_train, y_test = train_test_split(X, y, test_size=0.2, random_state=42)\n",
        "\n",
        "    # 6. Entraînement du modèle\n",
        "    print(f\"Entraînement du modèle : {type(modele).__name__}...\")\n",
        "    modele.fit(X_train, y_train)\n",
        "\n",
        "    # 7. Prédiction sur l'ensemble de test\n",
        "    y_pred = modele.predict(X_test)\n",
        "\n",
        "    # 8. Évaluation du modèle\n",
        "    rmse = np.sqrt(mean_squared_error(y_test, y_pred))\n",
        "    r2 = r2_score(y_test, y_pred)\n",
        "\n",
        "    metrics = {\n",
        "        'root_mean_squared_error': rmse,\n",
        "        'r2_score': r2\n",
        "    }\n",
        "\n",
        "    print(\"Évaluation du modèle terminée.\")\n",
        "    return metrics\n",
        "\n",
        "# Exemple d'utilisation du code refactoré\n",
        "if __name__ == \"__main__\":\n",
        "    # Créez une instance du modèle que vous souhaitez évaluer\n",
        "    modele_regression = LinearRegression()\n",
        "\n",
        "    # Appelez la fonction pour entraîner et évaluer le modèle\n",
        "    resultats_modelisation = entrainer_et_evaluer_modele_seattle(modele_regression)\n",
        "\n",
        "    print(\"\\nRésultats de la modélisation :\")\n",
        "    if \"erreur\" in resultats_modelisation:\n",
        "        print(resultats_modelisation[\"erreur\"])\n",
        "    else:\n",
        "        print(f\"Root Mean Squared Error (RMSE) : {resultats_modelisation['root_mean_squared_error']:.2f}\")\n",
        "        print(f\"R-carré (R² Score) : {resultats_modelisation['r2_score']:.2f}\")"
      ],
      "metadata": {
        "colab": {
          "base_uri": "https://localhost:8080/"
        },
        "id": "gO0npCsWQSjk",
        "outputId": "a629a4ef-0871-49e2-fc04-aff3754220b0"
      },
      "execution_count": 21,
      "outputs": [
        {
          "output_type": "stream",
          "name": "stdout",
          "text": [
            "Entraînement du modèle : LinearRegression...\n",
            "Évaluation du modèle terminée.\n",
            "\n",
            "Résultats de la modélisation :\n",
            "Root Mean Squared Error (RMSE) : 0.71\n",
            "R-carré (R² Score) : 0.82\n"
          ]
        }
      ]
    },
    {
      "cell_type": "markdown",
      "source": [
        "L) Optimisez et interpretez le modele"
      ],
      "metadata": {
        "id": "CpdO8hJknZVQ"
      }
    },
    {
      "cell_type": "code",
      "source": [
        "from sklearn.model_selection import GridSearchCV\n",
        "from sklearn.ensemble import GradientBoostingRegressor\n",
        "import matplotlib.pyplot as plt\n",
        "import pandas as pd\n",
        "import numpy as np\n",
        "\n",
        "# Le modèle que nous allons optimiser\n",
        "model_to_optimize = GradientBoostingRegressor(random_state=42)\n",
        "\n",
        "# La grille d'hyperparamètres à tester\n",
        "# C'est une petite grille pour un test rapide\n",
        "param_grid = {\n",
        "    'n_estimators': [100, 200, 300],\n",
        "    'learning_rate': [0.05, 0.1, 0.2]\n",
        "}\n",
        "\n",
        "# Lancer la recherche par grille (Grid Search)\n",
        "grid_search = GridSearchCV(\n",
        "    estimator=model_to_optimize,\n",
        "    param_grid=param_grid,\n",
        "    cv=5,\n",
        "    scoring='r2',\n",
        "    n_jobs=-1\n",
        ")\n",
        "\n",
        "# Adapter la grille sur les données d'entraînement\n",
        "grid_search.fit(X_train, y_train)\n",
        "\n",
        "print(f\"Meilleurs hyperparamètres trouvés : {grid_search.best_params_}\")\n",
        "print(f\"Meilleur score R-carré : {grid_search.best_score_:.4f}\")\n",
        "\n",
        "# Obtenir le meilleur modèle\n",
        "best_model = grid_search.best_estimator_\n",
        "\n",
        "# Calculer et afficher l'importance des variables\n",
        "feature_importances = best_model.feature_importances_\n",
        "feature_names = X_train.columns\n",
        "\n",
        "# Créer un DataFrame pour une meilleure visualisation\n",
        "importance_df = pd.DataFrame({\n",
        "    'feature': feature_names,\n",
        "    'importance': feature_importances\n",
        "}).sort_values('importance', ascending=False)\n",
        "\n",
        "# Afficher l'importance des 15 premières variables les plus importantes\n",
        "print(\"\\nTop 15 des variables les plus importantes :\")\n",
        "print(importance_df.head(15))\n",
        "\n",
        "# Représenter l'importance des variables sous forme d'histogramme\n",
        "plt.figure(figsize=(12, 8))\n",
        "sns.barplot(\n",
        "    x='importance',\n",
        "    y='feature',\n",
        "    data=importance_df.head(15)\n",
        ")\n",
        "plt.title(\"Importance des variables pour le meilleur modèle\")\n",
        "plt.xlabel(\"Importance\")\n",
        "plt.ylabel(\"Variable\")\n",
        "plt.show()"
      ],
      "metadata": {
        "colab": {
          "base_uri": "https://localhost:8080/",
          "height": 969
        },
        "id": "WQYd6koznsR3",
        "outputId": "789173b1-4d44-450a-a11d-e1eeb645482e"
      },
      "execution_count": 22,
      "outputs": [
        {
          "output_type": "stream",
          "name": "stdout",
          "text": [
            "Meilleurs hyperparamètres trouvés : {'learning_rate': 0.1, 'n_estimators': 300}\n",
            "Meilleur score R-carré : 0.8851\n",
            "\n",
            "Top 15 des variables les plus importantes :\n",
            "                                           feature  importance\n",
            "12                              SiteEUIWN(kBtu/sf)    0.486543\n",
            "22                               TotalGHGEmissions    0.213677\n",
            "20                              NaturalGas(therms)    0.077353\n",
            "8                                 PropertyGFATotal    0.045143\n",
            "21                                NaturalGas(kBtu)    0.037267\n",
            "11                                SiteEUI(kBtu/sf)    0.032755\n",
            "17                                  SteamUse(kBtu)    0.027701\n",
            "10                          PropertyGFABuilding(s)    0.021611\n",
            "19                               Electricity(kBtu)    0.012722\n",
            "13                              SourceEUI(kBtu/sf)    0.005950\n",
            "6722                                Has_NaturalGas    0.005223\n",
            "6692  ListOfAllPropertyUseTypes_Other - Recreation    0.004634\n",
            "18                                Electricity(kWh)    0.004600\n",
            "16                           SiteEnergyUseWN(kBtu)    0.004256\n",
            "14                            SourceEUIWN(kBtu/sf)    0.003112\n"
          ]
        },
        {
          "output_type": "display_data",
          "data": {
            "text/plain": [
              "<Figure size 1200x800 with 1 Axes>"
            ],
            "image/png": "[encoded data removed]"
          },
          "metadata": {}
        }
      ]
    },
    {
      "cell_type": "markdown",
      "source": [
        "Interprétation de vos résultats d'optimisation\n",
        "\n",
        "    Meilleurs hyperparamètres : Le modèle a trouvé que la meilleure performance est obtenue avec learning_rate de 0.1 et n_estimators de 300. Cela signifie que le modèle apprend de manière efficace en combinant un nombre suffisant d'arbres de décision.\n",
        "\n",
        "    Meilleur score R-carré : Le score R-carré de 0,8851 est un excellent résultat pour un premier modèle. Il indique que votre modèle de régression par boosting de gradient est capable d'expliquer près de 89 % de la variance dans l'intensité des émissions de GES.\n",
        "\n",
        "Importance des variables\n",
        "\n",
        "L'analyse de l'importance des variables est la partie la plus intéressante, car elle vous donne des informations sur les facteurs qui influencent le plus les émissions de GES.\n",
        "\n",
        "Les résultats montrent clairement que les principales variables de prédiction sont :\n",
        "\n",
        "    SiteEUIWN(kBtu/sf) : L'utilisation d'énergie sur site, normalisée par la surface et ajustée aux conditions météorologiques. C'est la variable la plus influente sur les émissions.\n",
        "\n",
        "    TotalGHGEmissions : C'est une valeur absolue des émissions, qui est fortement corrélée avec la variable cible (l'intensité des émissions). C'est pourquoi elle est si importante.\n",
        "\n",
        "    NaturalGas(therms) : La consommation de gaz naturel est un contributeur majeur aux émissions.\n",
        "\n",
        "Les autres variables comme la surface totale du bâtiment (PropertyGFATotal), l'âge du bâtiment (YearBuilt), ou les caractéristiques des sources d'énergie (Has_NaturalGas, etc.) sont également importantes, mais leur impact est bien moins significatif que les variables liées à la consommation énergétique."
      ],
      "metadata": {
        "id": "Ty5IfLXduTgc"
      }
    },
    {
      "cell_type": "markdown",
      "source": [
        "Sauvegardez le modèle entraîné de la première partie de la mission via BentoML."
      ],
      "metadata": {
        "id": "4cYbm5w8mbM_"
      }
    },
    {
      "cell_type": "code",
      "source": [
        "!pip install bentoml"
      ],
      "metadata": {
        "colab": {
          "base_uri": "https://localhost:8080/"
        },
        "id": "hPObGL220P3w",
        "outputId": "36487a59-b0bc-4b71-9b13-54fba71112d4"
      },
      "execution_count": 23,
      "outputs": [
        {
          "output_type": "stream",
          "name": "stdout",
          "text": [
            "Collecting bentoml\n",
            "  Downloading bentoml-1.4.22-py3-none-any.whl.metadata (16 kB)\n",
            "Collecting a2wsgi>=1.10.7 (from bentoml)\n",
            "  Downloading a2wsgi-1.10.10-py3-none-any.whl.metadata (4.0 kB)\n",
            "Requirement already satisfied: aiohttp in /usr/local/lib/python3.12/dist-packages (from bentoml) (3.12.15)\n",
            "Collecting aiosqlite>=0.20.0 (from bentoml)\n",
            "  Downloading aiosqlite-0.21.0-py3-none-any.whl.metadata (4.3 kB)\n",
            "Requirement already satisfied: attrs>=22.2.0 in /usr/local/lib/python3.12/dist-packages (from bentoml) (25.3.0)\n",
            "Collecting cattrs<23.2.0,>=22.1.0 (from bentoml)\n",
            "  Downloading cattrs-23.1.2-py3-none-any.whl.metadata (9.3 kB)\n",
            "Collecting click-option-group (from bentoml)\n",
            "  Downloading click_option_group-0.5.7-py3-none-any.whl.metadata (5.8 kB)\n",
            "Requirement already satisfied: click>=7.0 in /usr/local/lib/python3.12/dist-packages (from bentoml) (8.2.1)\n",
            "Requirement already satisfied: cloudpickle>=2.0.0 in /usr/local/lib/python3.12/dist-packages (from bentoml) (3.1.1)\n",
            "Collecting fsspec>=2025.7.0 (from bentoml)\n",
            "  Downloading fsspec-2025.7.0-py3-none-any.whl.metadata (12 kB)\n",
            "Requirement already satisfied: httpx in /usr/local/lib/python3.12/dist-packages (from bentoml) (0.28.1)\n",
            "Collecting httpx-ws>=0.6.0 (from bentoml)\n",
            "  Downloading httpx_ws-0.7.2-py3-none-any.whl.metadata (9.3 kB)\n",
            "Requirement already satisfied: jinja2>=3.0.1 in /usr/local/lib/python3.12/dist-packages (from bentoml) (3.1.6)\n",
            "Collecting kantoku>=0.18.3 (from bentoml)\n",
            "  Downloading kantoku-0.18.3-py3-none-any.whl.metadata (2.1 kB)\n",
            "Requirement already satisfied: numpy in /usr/local/lib/python3.12/dist-packages (from bentoml) (2.0.2)\n",
            "Requirement already satisfied: nvidia-ml-py in /usr/local/lib/python3.12/dist-packages (from bentoml) (12.575.51)\n",
            "Requirement already satisfied: opentelemetry-api~=1.20 in /usr/local/lib/python3.12/dist-packages (from bentoml) (1.36.0)\n",
            "Collecting opentelemetry-instrumentation-aiohttp-client~=0.41b0 (from bentoml)\n",
            "  Downloading opentelemetry_instrumentation_aiohttp_client-0.57b0-py3-none-any.whl.metadata (2.2 kB)\n",
            "Collecting opentelemetry-instrumentation-asgi~=0.41b0 (from bentoml)\n",
            "  Downloading opentelemetry_instrumentation_asgi-0.57b0-py3-none-any.whl.metadata (2.0 kB)\n",
            "Collecting opentelemetry-instrumentation~=0.41b0 (from bentoml)\n",
            "  Downloading opentelemetry_instrumentation-0.57b0-py3-none-any.whl.metadata (6.7 kB)\n",
            "Requirement already satisfied: opentelemetry-sdk~=1.20 in /usr/local/lib/python3.12/dist-packages (from bentoml) (1.36.0)\n",
            "Requirement already satisfied: opentelemetry-semantic-conventions~=0.41b0 in /usr/local/lib/python3.12/dist-packages (from bentoml) (0.57b0)\n",
            "Collecting opentelemetry-util-http~=0.41b0 (from bentoml)\n",
            "  Downloading opentelemetry_util_http-0.57b0-py3-none-any.whl.metadata (2.6 kB)\n",
            "Requirement already satisfied: packaging>=22.0 in /usr/local/lib/python3.12/dist-packages (from bentoml) (25.0)\n",
            "Collecting pathspec (from bentoml)\n",
            "  Downloading pathspec-0.12.1-py3-none-any.whl.metadata (21 kB)\n",
            "Collecting pip-requirements-parser>=31.2.0 (from bentoml)\n",
            "  Downloading pip_requirements_parser-32.0.1-py3-none-any.whl.metadata (9.3 kB)\n",
            "Requirement already satisfied: prometheus-client>=0.10.0 in /usr/local/lib/python3.12/dist-packages (from bentoml) (0.22.1)\n",
            "Requirement already satisfied: psutil in /usr/local/lib/python3.12/dist-packages (from bentoml) (5.9.5)\n",
            "Requirement already satisfied: pydantic<3 in /usr/local/lib/python3.12/dist-packages (from bentoml) (2.11.7)\n",
            "Requirement already satisfied: python-dateutil in /usr/local/lib/python3.12/dist-packages (from bentoml) (2.9.0.post0)\n",
            "Collecting python-json-logger (from bentoml)\n",
            "  Downloading python_json_logger-3.3.0-py3-none-any.whl.metadata (4.0 kB)\n",
            "Requirement already satisfied: python-multipart in /usr/local/lib/python3.12/dist-packages (from bentoml) (0.0.20)\n",
            "Requirement already satisfied: pyyaml>=5.0 in /usr/local/lib/python3.12/dist-packages (from bentoml) (6.0.2)\n",
            "Collecting questionary>=2.0.1 (from bentoml)\n",
            "  Downloading questionary-2.1.1-py3-none-any.whl.metadata (5.4 kB)\n",
            "Requirement already satisfied: rich>=11.2.0 in /usr/local/lib/python3.12/dist-packages (from bentoml) (13.9.4)\n",
            "Collecting schema (from bentoml)\n",
            "  Downloading schema-0.7.7-py2.py3-none-any.whl.metadata (34 kB)\n",
            "Collecting simple-di>=0.1.4 (from bentoml)\n",
            "  Downloading simple_di-0.1.5-py3-none-any.whl.metadata (3.0 kB)\n",
            "Requirement already satisfied: starlette>=0.24.0 in /usr/local/lib/python3.12/dist-packages (from bentoml) (0.47.3)\n",
            "Collecting tomli-w (from bentoml)\n",
            "  Downloading tomli_w-1.2.0-py3-none-any.whl.metadata (5.7 kB)\n",
            "Requirement already satisfied: uvicorn>=0.22.0 in /usr/local/lib/python3.12/dist-packages (from bentoml) (0.35.0)\n",
            "Collecting watchfiles>=0.15.0 (from bentoml)\n",
            "  Downloading watchfiles-1.1.0-cp312-cp312-manylinux_2_17_x86_64.manylinux2014_x86_64.whl.metadata (4.9 kB)\n",
            "Requirement already satisfied: typing_extensions>=4.0 in /usr/local/lib/python3.12/dist-packages (from aiosqlite>=0.20.0->bentoml) (4.15.0)\n",
            "Requirement already satisfied: anyio>=4 in /usr/local/lib/python3.12/dist-packages (from httpx-ws>=0.6.0->bentoml) (4.10.0)\n",
            "Requirement already satisfied: httpcore>=1.0.4 in /usr/local/lib/python3.12/dist-packages (from httpx-ws>=0.6.0->bentoml) (1.0.9)\n",
            "Collecting wsproto (from httpx-ws>=0.6.0->bentoml)\n",
            "  Downloading wsproto-1.2.0-py3-none-any.whl.metadata (5.6 kB)\n",
            "Requirement already satisfied: certifi in /usr/local/lib/python3.12/dist-packages (from httpx->bentoml) (2025.8.3)\n",
            "Requirement already satisfied: idna in /usr/local/lib/python3.12/dist-packages (from httpx->bentoml) (3.10)\n",
            "Requirement already satisfied: h11>=0.16 in /usr/local/lib/python3.12/dist-packages (from httpcore>=1.0.4->httpx-ws>=0.6.0->bentoml) (0.16.0)\n",
            "Requirement already satisfied: MarkupSafe>=2.0 in /usr/local/lib/python3.12/dist-packages (from jinja2>=3.0.1->bentoml) (3.0.2)\n",
            "Requirement already satisfied: pyzmq>=17.0 in /usr/local/lib/python3.12/dist-packages (from kantoku>=0.18.3->bentoml) (26.2.1)\n",
            "Requirement already satisfied: tornado>=5.0.2 in /usr/local/lib/python3.12/dist-packages (from kantoku>=0.18.3->bentoml) (6.4.2)\n",
            "Requirement already satisfied: importlib-metadata<8.8.0,>=6.0 in /usr/local/lib/python3.12/dist-packages (from opentelemetry-api~=1.20->bentoml) (8.7.0)\n",
            "Requirement already satisfied: wrapt<2.0.0,>=1.0.0 in /usr/local/lib/python3.12/dist-packages (from opentelemetry-instrumentation~=0.41b0->bentoml) (1.17.3)\n",
            "Collecting asgiref~=3.0 (from opentelemetry-instrumentation-asgi~=0.41b0->bentoml)\n",
            "  Downloading asgiref-3.9.1-py3-none-any.whl.metadata (9.3 kB)\n",
            "Requirement already satisfied: pyparsing in /usr/local/lib/python3.12/dist-packages (from pip-requirements-parser>=31.2.0->bentoml) (3.2.3)\n",
            "Requirement already satisfied: annotated-types>=0.6.0 in /usr/local/lib/python3.12/dist-packages (from pydantic<3->bentoml) (0.7.0)\n",
            "Requirement already satisfied: pydantic-core==2.33.2 in /usr/local/lib/python3.12/dist-packages (from pydantic<3->bentoml) (2.33.2)\n",
            "Requirement already satisfied: typing-inspection>=0.4.0 in /usr/local/lib/python3.12/dist-packages (from pydantic<3->bentoml) (0.4.1)\n",
            "Requirement already satisfied: prompt_toolkit<4.0,>=2.0 in /usr/local/lib/python3.12/dist-packages (from questionary>=2.0.1->bentoml) (3.0.51)\n",
            "Requirement already satisfied: markdown-it-py>=2.2.0 in /usr/local/lib/python3.12/dist-packages (from rich>=11.2.0->bentoml) (4.0.0)\n",
            "Requirement already satisfied: pygments<3.0.0,>=2.13.0 in /usr/local/lib/python3.12/dist-packages (from rich>=11.2.0->bentoml) (2.19.2)\n",
            "Requirement already satisfied: aiohappyeyeballs>=2.5.0 in /usr/local/lib/python3.12/dist-packages (from aiohttp->bentoml) (2.6.1)\n",
            "Requirement already satisfied: aiosignal>=1.4.0 in /usr/local/lib/python3.12/dist-packages (from aiohttp->bentoml) (1.4.0)\n",
            "Requirement already satisfied: frozenlist>=1.1.1 in /usr/local/lib/python3.12/dist-packages (from aiohttp->bentoml) (1.7.0)\n",
            "Requirement already satisfied: multidict<7.0,>=4.5 in /usr/local/lib/python3.12/dist-packages (from aiohttp->bentoml) (6.6.4)\n",
            "Requirement already satisfied: propcache>=0.2.0 in /usr/local/lib/python3.12/dist-packages (from aiohttp->bentoml) (0.3.2)\n",
            "Requirement already satisfied: yarl<2.0,>=1.17.0 in /usr/local/lib/python3.12/dist-packages (from aiohttp->bentoml) (1.20.1)\n",
            "Requirement already satisfied: six>=1.5 in /usr/local/lib/python3.12/dist-packages (from python-dateutil->bentoml) (1.17.0)\n",
            "Requirement already satisfied: sniffio>=1.1 in /usr/local/lib/python3.12/dist-packages (from anyio>=4->httpx-ws>=0.6.0->bentoml) (1.3.1)\n",
            "Requirement already satisfied: zipp>=3.20 in /usr/local/lib/python3.12/dist-packages (from importlib-metadata<8.8.0,>=6.0->opentelemetry-api~=1.20->bentoml) (3.23.0)\n",
            "Requirement already satisfied: mdurl~=0.1 in /usr/local/lib/python3.12/dist-packages (from markdown-it-py>=2.2.0->rich>=11.2.0->bentoml) (0.1.2)\n",
            "Requirement already satisfied: wcwidth in /usr/local/lib/python3.12/dist-packages (from prompt_toolkit<4.0,>=2.0->questionary>=2.0.1->bentoml) (0.2.13)\n",
            "Downloading bentoml-1.4.22-py3-none-any.whl (1.2 MB)\n",
            "\u001b[2K   \u001b[90m━━━━━━━━━━━━━━━━━━━━━━━━━━━━━━━━━━━━━━━━\u001b[0m \u001b[32m1.2/1.2 MB\u001b[0m \u001b[31m3.4 MB/s\u001b[0m eta \u001b[36m0:00:00\u001b[0m\n",
            "\u001b[?25hDownloading a2wsgi-1.10.10-py3-none-any.whl (17 kB)\n",
            "Downloading aiosqlite-0.21.0-py3-none-any.whl (15 kB)\n",
            "Downloading cattrs-23.1.2-py3-none-any.whl (50 kB)\n",
            "\u001b[2K   \u001b[90m━━━━━━━━━━━━━━━━━━━━━━━━━━━━━━━━━━━━━━━━\u001b[0m \u001b[32m50.8/50.8 kB\u001b[0m \u001b[31m3.9 MB/s\u001b[0m eta \u001b[36m0:00:00\u001b[0m\n",
            "\u001b[?25hDownloading fsspec-2025.7.0-py3-none-any.whl (199 kB)\n",
            "\u001b[2K   \u001b[90m━━━━━━━━━━━━━━━━━━━━━━━━━━━━━━━━━━━━━━━━\u001b[0m \u001b[32m199.6/199.6 kB\u001b[0m \u001b[31m13.8 MB/s\u001b[0m eta \u001b[36m0:00:00\u001b[0m\n",
            "\u001b[?25hDownloading httpx_ws-0.7.2-py3-none-any.whl (14 kB)\n",
            "Downloading kantoku-0.18.3-py3-none-any.whl (118 kB)\n",
            "\u001b[2K   \u001b[90m━━━━━━━━━━━━━━━━━━━━━━━━━━━━━━━━━━━━━━━━\u001b[0m \u001b[32m118.4/118.4 kB\u001b[0m \u001b[31m8.6 MB/s\u001b[0m eta \u001b[36m0:00:00\u001b[0m\n",
            "\u001b[?25hDownloading opentelemetry_instrumentation-0.57b0-py3-none-any.whl (32 kB)\n",
            "Downloading opentelemetry_instrumentation_aiohttp_client-0.57b0-py3-none-any.whl (12 kB)\n",
            "Downloading opentelemetry_util_http-0.57b0-py3-none-any.whl (7.6 kB)\n",
            "Downloading opentelemetry_instrumentation_asgi-0.57b0-py3-none-any.whl (16 kB)\n",
            "Downloading pip_requirements_parser-32.0.1-py3-none-any.whl (35 kB)\n",
            "Downloading questionary-2.1.1-py3-none-any.whl (36 kB)\n",
            "Downloading simple_di-0.1.5-py3-none-any.whl (9.8 kB)\n",
            "Downloading watchfiles-1.1.0-cp312-cp312-manylinux_2_17_x86_64.manylinux2014_x86_64.whl (452 kB)\n",
            "\u001b[2K   \u001b[90m━━━━━━━━━━━━━━━━━━━━━━━━━━━━━━━━━━━━━━━━\u001b[0m \u001b[32m452.2/452.2 kB\u001b[0m \u001b[31m18.8 MB/s\u001b[0m eta \u001b[36m0:00:00\u001b[0m\n",
            "\u001b[?25hDownloading click_option_group-0.5.7-py3-none-any.whl (11 kB)\n",
            "Downloading pathspec-0.12.1-py3-none-any.whl (31 kB)\n",
            "Downloading python_json_logger-3.3.0-py3-none-any.whl (15 kB)\n",
            "Downloading schema-0.7.7-py2.py3-none-any.whl (18 kB)\n",
            "Downloading tomli_w-1.2.0-py3-none-any.whl (6.7 kB)\n",
            "Downloading asgiref-3.9.1-py3-none-any.whl (23 kB)\n",
            "Downloading wsproto-1.2.0-py3-none-any.whl (24 kB)\n",
            "Installing collected packages: schema, wsproto, tomli-w, simple-di, python-json-logger, pip-requirements-parser, pathspec, opentelemetry-util-http, kantoku, fsspec, click-option-group, cattrs, asgiref, aiosqlite, a2wsgi, watchfiles, questionary, httpx-ws, opentelemetry-instrumentation, opentelemetry-instrumentation-asgi, opentelemetry-instrumentation-aiohttp-client, bentoml\n",
            "  Attempting uninstall: fsspec\n",
            "    Found existing installation: fsspec 2025.3.0\n",
            "    Uninstalling fsspec-2025.3.0:\n",
            "      Successfully uninstalled fsspec-2025.3.0\n",
            "\u001b[31mERROR: pip's dependency resolver does not currently take into account all the packages that are installed. This behaviour is the source of the following dependency conflicts.\n",
            "datasets 4.0.0 requires fsspec[http]<=2025.3.0,>=2023.1.0, but you have fsspec 2025.7.0 which is incompatible.\n",
            "gcsfs 2025.3.0 requires fsspec==2025.3.0, but you have fsspec 2025.7.0 which is incompatible.\u001b[0m\u001b[31m\n",
            "\u001b[0mSuccessfully installed a2wsgi-1.10.10 aiosqlite-0.21.0 asgiref-3.9.1 bentoml-1.4.22 cattrs-23.1.2 click-option-group-0.5.7 fsspec-2025.7.0 httpx-ws-0.7.2 kantoku-0.18.3 opentelemetry-instrumentation-0.57b0 opentelemetry-instrumentation-aiohttp-client-0.57b0 opentelemetry-instrumentation-asgi-0.57b0 opentelemetry-util-http-0.57b0 pathspec-0.12.1 pip-requirements-parser-32.0.1 python-json-logger-3.3.0 questionary-2.1.1 schema-0.7.7 simple-di-0.1.5 tomli-w-1.2.0 watchfiles-1.1.0 wsproto-1.2.0\n"
          ]
        }
      ]
    },
    {
      "cell_type": "code",
      "source": [
        "import bentoml\n",
        "import pandas as pd\n",
        "\n",
        "# Ce code suppose que 'best_model' et 'X_train' ont été définis\n",
        "# lors de la phase d'entraînement et d'optimisation du modèle.\n",
        "try:\n",
        "    # Sauvegarde du modèle en incluant l'ordre des features\n",
        "    # L'argument `custom_objects` est utilisé pour cela\n",
        "    bento_model = bentoml.sklearn.save_model(\n",
        "        \"emission_predictor\",\n",
        "        best_model,\n",
        "        custom_objects={\n",
        "            \"features\": X_train.columns.tolist()\n",
        "        }\n",
        "    )\n",
        "    print(f\"Le modèle a été sauvegardé avec succès. Tag du modèle : {bento_model.tag}\")\n",
        "\n",
        "except NameError:\n",
        "    print(\"Erreur : Les variables 'X_train' ou 'best_model' ne sont pas définies.\")\n",
        "    print(\"Veuillez d'abord exécuter le code des sections 'Préparation des données' et 'Optimisation du modèle' pour générer ces variables.\")\n",
        "\n",
        "except Exception as e:\n",
        "    print(f\"Une erreur est survenue lors de la sauvegarde du modèle : {e}\")\n",
        "\n"
      ],
      "metadata": {
        "colab": {
          "base_uri": "https://localhost:8080/"
        },
        "id": "YOO6IZPey1_s",
        "outputId": "f28df4b7-80fe-422e-a57b-fef66be6af87"
      },
      "execution_count": 24,
      "outputs": [
        {
          "output_type": "stream",
          "name": "stdout",
          "text": [
            "Le modèle a été sauvegardé avec succès. Tag du modèle : emission_predictor:zmpbpfuhlccxkasc\n"
          ]
        }
      ]
    },
    {
      "cell_type": "markdown",
      "source": [
        "Définir pour chaque feature ce qui pourrait représenter une valeur incohérente"
      ],
      "metadata": {
        "id": "uLaOB03yYSM7"
      }
    },
    {
      "cell_type": "markdown",
      "source": [
        "Types d'incohérences possibles\n",
        "\n",
        "    Erreur de type : La valeur n'est pas du bon type de données (ex: une chaîne de caractères à la place d'un nombre).\n",
        "\n",
        "    Contrainte de plage : La valeur se situe en dehors d'une plage valide (ex: une température négative).\n",
        "\n",
        "    Contrainte logique : La valeur est logiquement impossible ou contradictoire (ex: une année de construction future).\n",
        "\n",
        "    Format non respecté : La valeur ne suit pas un format attendu (ex: un code postal avec des lettres).\n",
        "\n",
        "    Incomplétude : La valeur est manquante alors qu'elle devrait être présente.\n",
        "\n",
        "Définition des valeurs incohérentes par \"feature\"\n",
        "\n",
        "    OSEBuildingID : Un identifiant non unique, un identifiant négatif ou un identifiant non numérique.\n",
        "\n",
        "    DataYear : Une année en dehors de la période d'étude (par exemple, < 2016), une année future, ou une valeur non entière.\n",
        "\n",
        "    PropertyName : Une chaîne de caractères vide, une valeur nulle, ou des caractères spéciaux non pertinents.\n",
        "\n",
        "    Address, City, State : Des chaînes de caractères vides ou manquantes.\n",
        "\n",
        "    ZipCode : Un code postal qui ne contient pas 5 chiffres ou qui contient des lettres.\n",
        "\n",
        "    Latitude et Longitude : Une valeur non numérique, ou une coordonnée qui se situe en dehors de la région de Seattle.\n",
        "\n",
        "    YearBuilt : Une année de construction future (postérieure à l'année actuelle), ou une année très ancienne et non plausible pour le type de bâtiment.\n",
        "\n",
        "    NumberofBuildings et NumberofFloors : Une valeur nulle ou négative (il ne peut y avoir zéro bâtiment ou un nombre négatif d'étages).\n",
        "\n",
        "    PropertyGFATotal, PropertyGFAParking, PropertyGFABuilding(s) : Une valeur négative. De plus, PropertyGFAParking et PropertyGFABuilding(s) ne devraient pas être supérieurs à PropertyGFATotal.\n",
        "\n",
        "    ENERGYSTARScore : Une valeur non entière, ou un score en dehors de la plage de 1 à 100.\n",
        "\n",
        "    SiteEUI(kBtu/sf) et autres métriques énergétiques : Une valeur négative (la consommation énergétique ne peut pas être négative).\n",
        "\n",
        "    GHGEmissionsIntensity et TotalGHGEmissions : Une valeur négative. Ces valeurs représentent des émissions et ne peuvent donc pas être négatives.\n",
        "\n",
        "    DefaultData, Outlier, ComplianceStatus : Des valeurs qui ne font pas partie de l'ensemble de catégories prédéfini (par exemple, des valeurs autres que true/false ou les statuts attendus)."
      ],
      "metadata": {
        "id": "M-kBlogiYl5R"
      }
    },
    {
      "cell_type": "markdown",
      "source": [
        "Si votre nombre de features est trop grand (plus de 10 par exemple) :\n",
        "\n",
        "    Il suffira d’implémenter ces règles uniquement pour les features ayant la plus grande feature importance.\n"
      ],
      "metadata": {
        "id": "Rll-EWxzZUKm"
      }
    },
    {
      "cell_type": "markdown",
      "source": [
        "Pour implémenter cette logique, la première étape est de déterminer quelles sont les \"features\" les plus importantes pour votre modèle. Étant donné que votre modèle est un modèle de régression, nous pouvons utiliser un modèle de type Random Forest Regressor, qui fournit un score d'importance pour chaque caractéristique.\n",
        "\n",
        "Étape 1 : Calculer l'importance des \"features\"\n",
        "\n",
        "Voici un script pour charger vos données, entraîner un modèle et afficher l'importance de chaque \"feature\"."
      ],
      "metadata": {
        "id": "Yw2ahlvMZggP"
      }
    },
    {
      "cell_type": "markdown",
      "source": [
        "En exécutant ce code, nous obtenons l'importance de chaque \"feature\""
      ],
      "metadata": {
        "id": "4x4s-1t9Zr3v"
      }
    },
    {
      "cell_type": "code",
      "source": [
        "import pandas as pd\n",
        "from sklearn.model_selection import train_test_split\n",
        "from sklearn.ensemble import RandomForestRegressor\n",
        "\n",
        "# Charger le jeu de données\n",
        "df = pd.read_csv(\"donnees_seattle.csv\")\n",
        "\n",
        "# Sélectionner les features numériques et la cible\n",
        "features = ['PropertyGFABuilding(s)', 'SiteEUI(kBtu/sf)', 'SourceEUI(kBtu/sf)', 'YearBuilt']\n",
        "target = 'GHGEmissionsIntensity'\n",
        "\n",
        "# Nettoyer les données\n",
        "df_cleaned = df.dropna(subset=features + [target])\n",
        "\n",
        "# Préparer les variables X et y\n",
        "X = df_cleaned[features]\n",
        "y = df_cleaned[target]\n",
        "\n",
        "# Séparation des données\n",
        "X_train, X_test, y_train, y_test = train_test_split(X, y, test_size=0.2, random_state=42)\n",
        "\n",
        "# Entraîner un modèle pour déterminer l'importance des features\n",
        "model = RandomForestRegressor(n_estimators=100, random_state=42)\n",
        "model.fit(X_train, y_train)\n",
        "\n",
        "# Afficher l'importance des features\n",
        "importances = pd.Series(model.feature_importances_, index=features).sort_values(ascending=False)\n",
        "print(\"Importance des features :\")\n",
        "print(importances)"
      ],
      "metadata": {
        "colab": {
          "base_uri": "https://localhost:8080/"
        },
        "id": "XbgxvaGcZxNg",
        "outputId": "da5d2d77-b974-4e18-b2a2-715986349609"
      },
      "execution_count": 25,
      "outputs": [
        {
          "output_type": "stream",
          "name": "stdout",
          "text": [
            "Importance des features :\n",
            "SiteEUI(kBtu/sf)          0.735580\n",
            "SourceEUI(kBtu/sf)        0.146488\n",
            "YearBuilt                 0.064889\n",
            "PropertyGFABuilding(s)    0.053043\n",
            "dtype: float64\n"
          ]
        }
      ]
    },
    {
      "cell_type": "markdown",
      "source": [
        "Étape 2 : Implémenter la validation pour les \"features\" les plus importantes\n",
        "\n",
        "D'après le calcul de l'importance des \"features\", les plus importantes sont SourceEUI(kBtu/sf) et SiteEUI(kBtu/sf).\n",
        "\n",
        "J'ai mis à jour le fichier service.py pour implémenter des règles de validation strictes pour ces deux \"features\", en plus de YearBuilt qui est déjà une feature d'intérêt.\n",
        "\n",
        "Voici le code service.py mis à jour. Notez que j'ai ajouté PositiveFloat pour SourceEUI(kBtu/sf) et SiteEUI(kBtu/sf) pour garantir qu'elles ne soient jamais négatives, ce qui serait incohérent pour une consommation énergétique."
      ],
      "metadata": {
        "id": "-hfPRgqLaEBr"
      }
    },
    {
      "cell_type": "code",
      "source": [
        "import bentoml\n",
        "from fastapi import FastAPI\n",
        "from pydantic import BaseModel, Field, PositiveFloat\n",
        "import pandas as pd\n",
        "from typing import List, Dict, Any, Optional\n",
        "import json\n",
        "\n",
        "# Chargez les données une seule fois\n",
        "try:\n",
        "    df = pd.read_csv(\"DONNEES SEATTLE.csv\")\n",
        "except FileNotFoundError:\n",
        "    # Gérer l'erreur si le fichier n'est pas trouvé\n",
        "    df = pd.DataFrame()\n",
        "\n",
        "# Créez l'application FastAPI\n",
        "app = FastAPI(\n",
        "    title=\"API de Données de Seattle\",\n",
        "    description=\"Une API pour accéder aux données du fichier 'DONNEES SEATTLE.csv'.\"\n",
        ")\n",
        "\n",
        "# Définissez le service BentoML et montez l'application FastAPI\n",
        "svc = bentoml.Service(\n",
        "    name=\"seattle-data-api\"\n",
        ")\n",
        "svc.mount_asgi_app(app)\n",
        "\n",
        "# Définissez une classe Pydantic pour valider le schéma de données\n",
        "# La validation se concentre sur les features les plus importantes\n",
        "class BuildingData(BaseModel):\n",
        "    OSEBuildingID: int = Field(..., description=\"ID unique du bâtiment\")\n",
        "    DataYear: int = Field(..., ge=2016, le=2023, description=\"Année des données, doit être >= 2016 et <= 2023\")\n",
        "    BuildingType: str = Field(..., min_length=1, description=\"Type de bâtiment\")\n",
        "    PrimaryPropertyType: str = Field(..., min_length=1, description=\"Type de propriété principal\")\n",
        "    PropertyName: str = Field(..., min_length=1, description=\"Nom de la propriété\")\n",
        "    Address: str = Field(..., min_length=1, description=\"Adresse de la propriété\")\n",
        "    YearBuilt: int = Field(..., ge=1800, le=2024, description=\"Année de construction, doit être réaliste\")\n",
        "\n",
        "    # Validation stricte pour les features les plus importantes\n",
        "    SiteEUI: PositiveFloat = Field(..., alias='SiteEUI(kBtu/sf)', description=\"Consommation énergétique, doit être un nombre positif\")\n",
        "    SourceEUI: PositiveFloat = Field(..., alias='SourceEUI(kBtu/sf)', description=\"Consommation énergétique source, doit être un nombre positif\")\n",
        "\n",
        "    GHGEmissionsIntensity: Optional[PositiveFloat] = None\n",
        "\n",
        "# Ajoutez des points d'accès à l'API\n",
        "@app.get(\"/\")\n",
        "def read_root():\n",
        "    return {\"message\": \"Bienvenue sur l'API de données de Seattle !\"}\n",
        "\n",
        "@app.get(\"/data\", response_model=List[Dict[str, Any]])\n",
        "def get_data_head():\n",
        "    if df.empty:\n",
        "        return {\"error\": \"Le jeu de données est vide.\"}\n",
        "    records = df.head().to_dict(orient='records')\n",
        "    return records\n",
        "\n",
        "@app.get(\"/data/year/{year}\", response_model=List[Dict[str, Any]])\n",
        "def get_data_by_year(year: int):\n",
        "    if df.empty:\n",
        "        return {\"error\": \"Le jeu de données est vide.\"}\n",
        "    filtered_df = df[df['DataYear'] == year]\n",
        "    if filtered_df.empty:\n",
        "        return {\"message\": f\"Aucune donnée trouvée pour l'année {year}.\"}\n",
        "    records = filtered_df.to_dict(orient='records')\n",
        "    return records\n",
        "\n",
        "@app.post(\"/data/submit\")\n",
        "def submit_new_building_data(building_data: BuildingData):\n",
        "    return {\n",
        "        \"message\": \"Données de bâtiment reçues et validées avec succès !\",\n",
        "        \"data_received\": building_data.dict()\n",
        "    }"
      ],
      "metadata": {
        "id": "piiIoJpRaS3N"
      },
      "execution_count": 26,
      "outputs": []
    }
  ]
}